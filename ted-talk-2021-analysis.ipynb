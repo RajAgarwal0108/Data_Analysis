{
 "cells": [
  {
   "cell_type": "code",
   "execution_count": 1,
   "id": "a974f76f",
   "metadata": {
    "_cell_guid": "b1076dfc-b9ad-4769-8c92-a6c4dae69d19",
    "_uuid": "8f2839f25d086af736a60e9eeb907d3b93b6e0e5",
    "execution": {
     "iopub.execute_input": "2022-05-23T12:10:10.628674Z",
     "iopub.status.busy": "2022-05-23T12:10:10.627898Z",
     "iopub.status.idle": "2022-05-23T12:10:10.648460Z",
     "shell.execute_reply": "2022-05-23T12:10:10.647692Z"
    },
    "papermill": {
     "duration": 0.065486,
     "end_time": "2022-05-23T12:10:10.650907",
     "exception": false,
     "start_time": "2022-05-23T12:10:10.585421",
     "status": "completed"
    },
    "tags": []
   },
   "outputs": [
    {
     "name": "stdout",
     "output_type": "stream",
     "text": [
      "/kaggle/input/ted-talks/data.csv\n"
     ]
    }
   ],
   "source": [
    "import numpy as np \n",
    "import pandas as pd \n",
    "\n",
    "\n",
    "import os\n",
    "for dirname, _, filenames in os.walk('/kaggle/input'):\n",
    "    for filename in filenames:\n",
    "        print(os.path.join(dirname, filename))\n"
   ]
  },
  {
   "cell_type": "code",
   "execution_count": 2,
   "id": "f5fdca53",
   "metadata": {
    "execution": {
     "iopub.execute_input": "2022-05-23T12:10:10.727050Z",
     "iopub.status.busy": "2022-05-23T12:10:10.726262Z",
     "iopub.status.idle": "2022-05-23T12:10:10.772482Z",
     "shell.execute_reply": "2022-05-23T12:10:10.771543Z"
    },
    "papermill": {
     "duration": 0.087552,
     "end_time": "2022-05-23T12:10:10.774973",
     "exception": false,
     "start_time": "2022-05-23T12:10:10.687421",
     "status": "completed"
    },
    "tags": []
   },
   "outputs": [],
   "source": [
    "df = pd.read_csv(\"/kaggle/input/ted-talks/data.csv\")"
   ]
  },
  {
   "cell_type": "code",
   "execution_count": 3,
   "id": "b8d2799f",
   "metadata": {
    "execution": {
     "iopub.execute_input": "2022-05-23T12:10:10.849115Z",
     "iopub.status.busy": "2022-05-23T12:10:10.848789Z",
     "iopub.status.idle": "2022-05-23T12:10:10.871609Z",
     "shell.execute_reply": "2022-05-23T12:10:10.870781Z"
    },
    "papermill": {
     "duration": 0.06154,
     "end_time": "2022-05-23T12:10:10.873638",
     "exception": false,
     "start_time": "2022-05-23T12:10:10.812098",
     "status": "completed"
    },
    "tags": []
   },
   "outputs": [
    {
     "data": {
      "text/html": [
       "<div>\n",
       "<style scoped>\n",
       "    .dataframe tbody tr th:only-of-type {\n",
       "        vertical-align: middle;\n",
       "    }\n",
       "\n",
       "    .dataframe tbody tr th {\n",
       "        vertical-align: top;\n",
       "    }\n",
       "\n",
       "    .dataframe thead th {\n",
       "        text-align: right;\n",
       "    }\n",
       "</style>\n",
       "<table border=\"1\" class=\"dataframe\">\n",
       "  <thead>\n",
       "    <tr style=\"text-align: right;\">\n",
       "      <th></th>\n",
       "      <th>title</th>\n",
       "      <th>author</th>\n",
       "      <th>date</th>\n",
       "      <th>views</th>\n",
       "      <th>likes</th>\n",
       "      <th>link</th>\n",
       "    </tr>\n",
       "  </thead>\n",
       "  <tbody>\n",
       "    <tr>\n",
       "      <th>0</th>\n",
       "      <td>Climate action needs new frontline leadership</td>\n",
       "      <td>Ozawa Bineshi Albert</td>\n",
       "      <td>December 2021</td>\n",
       "      <td>404000</td>\n",
       "      <td>12000</td>\n",
       "      <td>https://ted.com/talks/ozawa_bineshi_albert_cli...</td>\n",
       "    </tr>\n",
       "    <tr>\n",
       "      <th>1</th>\n",
       "      <td>The dark history of the overthrow of Hawaii</td>\n",
       "      <td>Sydney Iaukea</td>\n",
       "      <td>February 2022</td>\n",
       "      <td>214000</td>\n",
       "      <td>6400</td>\n",
       "      <td>https://ted.com/talks/sydney_iaukea_the_dark_h...</td>\n",
       "    </tr>\n",
       "    <tr>\n",
       "      <th>2</th>\n",
       "      <td>How play can spark new ideas for your business</td>\n",
       "      <td>Martin Reeves</td>\n",
       "      <td>September 2021</td>\n",
       "      <td>412000</td>\n",
       "      <td>12000</td>\n",
       "      <td>https://ted.com/talks/martin_reeves_how_play_c...</td>\n",
       "    </tr>\n",
       "    <tr>\n",
       "      <th>3</th>\n",
       "      <td>Why is China appointing judges to combat clima...</td>\n",
       "      <td>James K. Thornton</td>\n",
       "      <td>October 2021</td>\n",
       "      <td>427000</td>\n",
       "      <td>12000</td>\n",
       "      <td>https://ted.com/talks/james_k_thornton_why_is_...</td>\n",
       "    </tr>\n",
       "    <tr>\n",
       "      <th>4</th>\n",
       "      <td>Cement's carbon problem — and 2 ways to fix it</td>\n",
       "      <td>Mahendra Singhi</td>\n",
       "      <td>October 2021</td>\n",
       "      <td>2400</td>\n",
       "      <td>72</td>\n",
       "      <td>https://ted.com/talks/mahendra_singhi_cement_s...</td>\n",
       "    </tr>\n",
       "  </tbody>\n",
       "</table>\n",
       "</div>"
      ],
      "text/plain": [
       "                                               title                author  \\\n",
       "0      Climate action needs new frontline leadership  Ozawa Bineshi Albert   \n",
       "1        The dark history of the overthrow of Hawaii         Sydney Iaukea   \n",
       "2     How play can spark new ideas for your business         Martin Reeves   \n",
       "3  Why is China appointing judges to combat clima...     James K. Thornton   \n",
       "4     Cement's carbon problem — and 2 ways to fix it       Mahendra Singhi   \n",
       "\n",
       "             date   views  likes  \\\n",
       "0   December 2021  404000  12000   \n",
       "1   February 2022  214000   6400   \n",
       "2  September 2021  412000  12000   \n",
       "3    October 2021  427000  12000   \n",
       "4    October 2021    2400     72   \n",
       "\n",
       "                                                link  \n",
       "0  https://ted.com/talks/ozawa_bineshi_albert_cli...  \n",
       "1  https://ted.com/talks/sydney_iaukea_the_dark_h...  \n",
       "2  https://ted.com/talks/martin_reeves_how_play_c...  \n",
       "3  https://ted.com/talks/james_k_thornton_why_is_...  \n",
       "4  https://ted.com/talks/mahendra_singhi_cement_s...  "
      ]
     },
     "execution_count": 3,
     "metadata": {},
     "output_type": "execute_result"
    }
   ],
   "source": [
    "df.head()"
   ]
  },
  {
   "cell_type": "code",
   "execution_count": 4,
   "id": "50481c41",
   "metadata": {
    "execution": {
     "iopub.execute_input": "2022-05-23T12:10:10.951660Z",
     "iopub.status.busy": "2022-05-23T12:10:10.951302Z",
     "iopub.status.idle": "2022-05-23T12:10:10.960648Z",
     "shell.execute_reply": "2022-05-23T12:10:10.959681Z"
    },
    "papermill": {
     "duration": 0.052372,
     "end_time": "2022-05-23T12:10:10.963172",
     "exception": false,
     "start_time": "2022-05-23T12:10:10.910800",
     "status": "completed"
    },
    "tags": []
   },
   "outputs": [
    {
     "data": {
      "text/plain": [
       "title     0\n",
       "author    1\n",
       "date      0\n",
       "views     0\n",
       "likes     0\n",
       "link      0\n",
       "dtype: int64"
      ]
     },
     "execution_count": 4,
     "metadata": {},
     "output_type": "execute_result"
    }
   ],
   "source": [
    "df.isnull().sum()"
   ]
  },
  {
   "cell_type": "code",
   "execution_count": 5,
   "id": "f2f876b6",
   "metadata": {
    "execution": {
     "iopub.execute_input": "2022-05-23T12:10:11.042716Z",
     "iopub.status.busy": "2022-05-23T12:10:11.042303Z",
     "iopub.status.idle": "2022-05-23T12:10:11.056901Z",
     "shell.execute_reply": "2022-05-23T12:10:11.055983Z"
    },
    "papermill": {
     "duration": 0.057206,
     "end_time": "2022-05-23T12:10:11.059543",
     "exception": false,
     "start_time": "2022-05-23T12:10:11.002337",
     "status": "completed"
    },
    "tags": []
   },
   "outputs": [],
   "source": [
    "df = df.dropna()"
   ]
  },
  {
   "cell_type": "code",
   "execution_count": 6,
   "id": "44412b5c",
   "metadata": {
    "execution": {
     "iopub.execute_input": "2022-05-23T12:10:11.142269Z",
     "iopub.status.busy": "2022-05-23T12:10:11.141848Z",
     "iopub.status.idle": "2022-05-23T12:10:11.159922Z",
     "shell.execute_reply": "2022-05-23T12:10:11.158664Z"
    },
    "papermill": {
     "duration": 0.062245,
     "end_time": "2022-05-23T12:10:11.162191",
     "exception": false,
     "start_time": "2022-05-23T12:10:11.099946",
     "status": "completed"
    },
    "tags": []
   },
   "outputs": [
    {
     "data": {
      "text/html": [
       "<div>\n",
       "<style scoped>\n",
       "    .dataframe tbody tr th:only-of-type {\n",
       "        vertical-align: middle;\n",
       "    }\n",
       "\n",
       "    .dataframe tbody tr th {\n",
       "        vertical-align: top;\n",
       "    }\n",
       "\n",
       "    .dataframe thead th {\n",
       "        text-align: right;\n",
       "    }\n",
       "</style>\n",
       "<table border=\"1\" class=\"dataframe\">\n",
       "  <thead>\n",
       "    <tr style=\"text-align: right;\">\n",
       "      <th></th>\n",
       "      <th>title</th>\n",
       "      <th>author</th>\n",
       "      <th>date</th>\n",
       "      <th>views</th>\n",
       "      <th>likes</th>\n",
       "      <th>link</th>\n",
       "    </tr>\n",
       "  </thead>\n",
       "  <tbody>\n",
       "    <tr>\n",
       "      <th>0</th>\n",
       "      <td>Climate action needs new frontline leadership</td>\n",
       "      <td>Ozawa Bineshi Albert</td>\n",
       "      <td>December 2021</td>\n",
       "      <td>404000</td>\n",
       "      <td>12000</td>\n",
       "      <td>https://ted.com/talks/ozawa_bineshi_albert_cli...</td>\n",
       "    </tr>\n",
       "    <tr>\n",
       "      <th>1</th>\n",
       "      <td>The dark history of the overthrow of Hawaii</td>\n",
       "      <td>Sydney Iaukea</td>\n",
       "      <td>February 2022</td>\n",
       "      <td>214000</td>\n",
       "      <td>6400</td>\n",
       "      <td>https://ted.com/talks/sydney_iaukea_the_dark_h...</td>\n",
       "    </tr>\n",
       "    <tr>\n",
       "      <th>2</th>\n",
       "      <td>How play can spark new ideas for your business</td>\n",
       "      <td>Martin Reeves</td>\n",
       "      <td>September 2021</td>\n",
       "      <td>412000</td>\n",
       "      <td>12000</td>\n",
       "      <td>https://ted.com/talks/martin_reeves_how_play_c...</td>\n",
       "    </tr>\n",
       "    <tr>\n",
       "      <th>3</th>\n",
       "      <td>Why is China appointing judges to combat clima...</td>\n",
       "      <td>James K. Thornton</td>\n",
       "      <td>October 2021</td>\n",
       "      <td>427000</td>\n",
       "      <td>12000</td>\n",
       "      <td>https://ted.com/talks/james_k_thornton_why_is_...</td>\n",
       "    </tr>\n",
       "    <tr>\n",
       "      <th>4</th>\n",
       "      <td>Cement's carbon problem — and 2 ways to fix it</td>\n",
       "      <td>Mahendra Singhi</td>\n",
       "      <td>October 2021</td>\n",
       "      <td>2400</td>\n",
       "      <td>72</td>\n",
       "      <td>https://ted.com/talks/mahendra_singhi_cement_s...</td>\n",
       "    </tr>\n",
       "    <tr>\n",
       "      <th>...</th>\n",
       "      <td>...</td>\n",
       "      <td>...</td>\n",
       "      <td>...</td>\n",
       "      <td>...</td>\n",
       "      <td>...</td>\n",
       "      <td>...</td>\n",
       "    </tr>\n",
       "    <tr>\n",
       "      <th>5435</th>\n",
       "      <td>The best stats you've ever seen</td>\n",
       "      <td>Hans Rosling</td>\n",
       "      <td>February 2006</td>\n",
       "      <td>15000000</td>\n",
       "      <td>458000</td>\n",
       "      <td>https://ted.com/talks/hans_rosling_the_best_st...</td>\n",
       "    </tr>\n",
       "    <tr>\n",
       "      <th>5436</th>\n",
       "      <td>Do schools kill creativity?</td>\n",
       "      <td>Sir Ken Robinson</td>\n",
       "      <td>February 2006</td>\n",
       "      <td>72000000</td>\n",
       "      <td>2100000</td>\n",
       "      <td>https://ted.com/talks/sir_ken_robinson_do_scho...</td>\n",
       "    </tr>\n",
       "    <tr>\n",
       "      <th>5437</th>\n",
       "      <td>Greening the ghetto</td>\n",
       "      <td>Majora Carter</td>\n",
       "      <td>February 2006</td>\n",
       "      <td>2900000</td>\n",
       "      <td>88000</td>\n",
       "      <td>https://ted.com/talks/majora_carter_greening_t...</td>\n",
       "    </tr>\n",
       "    <tr>\n",
       "      <th>5438</th>\n",
       "      <td>Simplicity sells</td>\n",
       "      <td>David Pogue</td>\n",
       "      <td>February 2006</td>\n",
       "      <td>2000000</td>\n",
       "      <td>60000</td>\n",
       "      <td>https://ted.com/talks/david_pogue_simplicity_s...</td>\n",
       "    </tr>\n",
       "    <tr>\n",
       "      <th>5439</th>\n",
       "      <td>Averting the climate crisis</td>\n",
       "      <td>Al Gore</td>\n",
       "      <td>February 2006</td>\n",
       "      <td>3600000</td>\n",
       "      <td>109000</td>\n",
       "      <td>https://ted.com/talks/al_gore_averting_the_cli...</td>\n",
       "    </tr>\n",
       "  </tbody>\n",
       "</table>\n",
       "<p>5439 rows × 6 columns</p>\n",
       "</div>"
      ],
      "text/plain": [
       "                                                  title                author  \\\n",
       "0         Climate action needs new frontline leadership  Ozawa Bineshi Albert   \n",
       "1           The dark history of the overthrow of Hawaii         Sydney Iaukea   \n",
       "2        How play can spark new ideas for your business         Martin Reeves   \n",
       "3     Why is China appointing judges to combat clima...     James K. Thornton   \n",
       "4        Cement's carbon problem — and 2 ways to fix it       Mahendra Singhi   \n",
       "...                                                 ...                   ...   \n",
       "5435                    The best stats you've ever seen          Hans Rosling   \n",
       "5436                        Do schools kill creativity?      Sir Ken Robinson   \n",
       "5437                                Greening the ghetto         Majora Carter   \n",
       "5438                                   Simplicity sells           David Pogue   \n",
       "5439                        Averting the climate crisis               Al Gore   \n",
       "\n",
       "                date     views    likes  \\\n",
       "0      December 2021    404000    12000   \n",
       "1      February 2022    214000     6400   \n",
       "2     September 2021    412000    12000   \n",
       "3       October 2021    427000    12000   \n",
       "4       October 2021      2400       72   \n",
       "...              ...       ...      ...   \n",
       "5435   February 2006  15000000   458000   \n",
       "5436   February 2006  72000000  2100000   \n",
       "5437   February 2006   2900000    88000   \n",
       "5438   February 2006   2000000    60000   \n",
       "5439   February 2006   3600000   109000   \n",
       "\n",
       "                                                   link  \n",
       "0     https://ted.com/talks/ozawa_bineshi_albert_cli...  \n",
       "1     https://ted.com/talks/sydney_iaukea_the_dark_h...  \n",
       "2     https://ted.com/talks/martin_reeves_how_play_c...  \n",
       "3     https://ted.com/talks/james_k_thornton_why_is_...  \n",
       "4     https://ted.com/talks/mahendra_singhi_cement_s...  \n",
       "...                                                 ...  \n",
       "5435  https://ted.com/talks/hans_rosling_the_best_st...  \n",
       "5436  https://ted.com/talks/sir_ken_robinson_do_scho...  \n",
       "5437  https://ted.com/talks/majora_carter_greening_t...  \n",
       "5438  https://ted.com/talks/david_pogue_simplicity_s...  \n",
       "5439  https://ted.com/talks/al_gore_averting_the_cli...  \n",
       "\n",
       "[5439 rows x 6 columns]"
      ]
     },
     "execution_count": 6,
     "metadata": {},
     "output_type": "execute_result"
    }
   ],
   "source": [
    "df"
   ]
  },
  {
   "cell_type": "code",
   "execution_count": 7,
   "id": "dfa94692",
   "metadata": {
    "execution": {
     "iopub.execute_input": "2022-05-23T12:10:11.244932Z",
     "iopub.status.busy": "2022-05-23T12:10:11.244475Z",
     "iopub.status.idle": "2022-05-23T12:10:11.251622Z",
     "shell.execute_reply": "2022-05-23T12:10:11.250362Z"
    },
    "papermill": {
     "duration": 0.052291,
     "end_time": "2022-05-23T12:10:11.254388",
     "exception": false,
     "start_time": "2022-05-23T12:10:11.202097",
     "status": "completed"
    },
    "tags": []
   },
   "outputs": [],
   "source": [
    "data = (df.values)"
   ]
  },
  {
   "cell_type": "code",
   "execution_count": 8,
   "id": "850e03a5",
   "metadata": {
    "execution": {
     "iopub.execute_input": "2022-05-23T12:10:11.333147Z",
     "iopub.status.busy": "2022-05-23T12:10:11.332574Z",
     "iopub.status.idle": "2022-05-23T12:10:11.337113Z",
     "shell.execute_reply": "2022-05-23T12:10:11.336480Z"
    },
    "papermill": {
     "duration": 0.046766,
     "end_time": "2022-05-23T12:10:11.339161",
     "exception": false,
     "start_time": "2022-05-23T12:10:11.292395",
     "status": "completed"
    },
    "tags": []
   },
   "outputs": [],
   "source": [
    "author = [i[1] for i in data]"
   ]
  },
  {
   "cell_type": "markdown",
   "id": "1c71a028",
   "metadata": {
    "papermill": {
     "duration": 0.038088,
     "end_time": "2022-05-23T12:10:11.419105",
     "exception": false,
     "start_time": "2022-05-23T12:10:11.381017",
     "status": "completed"
    },
    "tags": []
   },
   "source": [
    "### Total number of author"
   ]
  },
  {
   "cell_type": "code",
   "execution_count": 9,
   "id": "fab2255d",
   "metadata": {
    "execution": {
     "iopub.execute_input": "2022-05-23T12:10:11.495682Z",
     "iopub.status.busy": "2022-05-23T12:10:11.495371Z",
     "iopub.status.idle": "2022-05-23T12:10:11.501715Z",
     "shell.execute_reply": "2022-05-23T12:10:11.500273Z"
    },
    "papermill": {
     "duration": 0.04878,
     "end_time": "2022-05-23T12:10:11.504184",
     "exception": false,
     "start_time": "2022-05-23T12:10:11.455404",
     "status": "completed"
    },
    "tags": []
   },
   "outputs": [
    {
     "data": {
      "text/plain": [
       "4443"
      ]
     },
     "execution_count": 9,
     "metadata": {},
     "output_type": "execute_result"
    }
   ],
   "source": [
    "len(set((author)))"
   ]
  },
  {
   "cell_type": "markdown",
   "id": "46e0d901",
   "metadata": {
    "papermill": {
     "duration": 0.039841,
     "end_time": "2022-05-23T12:10:11.581294",
     "exception": false,
     "start_time": "2022-05-23T12:10:11.541453",
     "status": "completed"
    },
    "tags": []
   },
   "source": [
    "### Ted Talks by Bill Gates"
   ]
  },
  {
   "cell_type": "code",
   "execution_count": 10,
   "id": "a2dff352",
   "metadata": {
    "execution": {
     "iopub.execute_input": "2022-05-23T12:10:11.657966Z",
     "iopub.status.busy": "2022-05-23T12:10:11.657668Z",
     "iopub.status.idle": "2022-05-23T12:10:11.666821Z",
     "shell.execute_reply": "2022-05-23T12:10:11.665610Z"
    },
    "papermill": {
     "duration": 0.049979,
     "end_time": "2022-05-23T12:10:11.669072",
     "exception": false,
     "start_time": "2022-05-23T12:10:11.619093",
     "status": "completed"
    },
    "tags": []
   },
   "outputs": [
    {
     "data": {
      "text/plain": [
       "[array(['The innovations we need to avoid a climate disaster',\n",
       "        'Bill Gates', 'March 2021', 1700000, 53000,\n",
       "        'https://ted.com/talks/bill_gates_the_innovations_we_need_to_avoid_a_climate_disaster'],\n",
       "       dtype=object),\n",
       " array(['How the pandemic will shape the near future', 'Bill Gates',\n",
       "        'June 2020', 4600000, 138000,\n",
       "        'https://ted.com/talks/bill_gates_how_the_pandemic_will_shape_the_near_future'],\n",
       "       dtype=object),\n",
       " array(['How we must respond to the coronavirus pandemic', 'Bill Gates',\n",
       "        'March 2020', 8600000, 259000,\n",
       "        'https://ted.com/talks/bill_gates_how_we_must_respond_to_the_coronavirus_pandemic'],\n",
       "       dtype=object),\n",
       " array([\"The next outbreak? We're not ready\", 'Bill Gates', 'March 2015',\n",
       "        43000000, 1300000,\n",
       "        'https://ted.com/talks/bill_gates_the_next_outbreak_we_re_not_ready'],\n",
       "       dtype=object),\n",
       " array(['Teachers need real feedback', 'Bill Gates', 'May 2013', 4500000,\n",
       "        135000,\n",
       "        'https://ted.com/talks/bill_gates_teachers_need_real_feedback'],\n",
       "       dtype=object),\n",
       " array(['How state budgets are breaking US schools', 'Bill Gates',\n",
       "        'March 2011', 2100000, 63000,\n",
       "        'https://ted.com/talks/bill_gates_how_state_budgets_are_breaking_us_schools'],\n",
       "       dtype=object),\n",
       " array(['Innovating to zero!', 'Bill Gates', 'February 2010', 8100000,\n",
       "        245000, 'https://ted.com/talks/bill_gates_innovating_to_zero'],\n",
       "       dtype=object),\n",
       " array(['Mosquitos, malaria and education', 'Bill Gates', 'February 2009',\n",
       "        5200000, 156000,\n",
       "        'https://ted.com/talks/bill_gates_mosquitos_malaria_and_education'],\n",
       "       dtype=object)]"
      ]
     },
     "execution_count": 10,
     "metadata": {},
     "output_type": "execute_result"
    }
   ],
   "source": [
    "[i for i in data if i[1] == 'Bill Gates']"
   ]
  },
  {
   "cell_type": "code",
   "execution_count": 11,
   "id": "6b9df783",
   "metadata": {
    "execution": {
     "iopub.execute_input": "2022-05-23T12:10:11.749016Z",
     "iopub.status.busy": "2022-05-23T12:10:11.748093Z",
     "iopub.status.idle": "2022-05-23T12:10:11.763165Z",
     "shell.execute_reply": "2022-05-23T12:10:11.762311Z"
    },
    "papermill": {
     "duration": 0.057278,
     "end_time": "2022-05-23T12:10:11.765236",
     "exception": false,
     "start_time": "2022-05-23T12:10:11.707958",
     "status": "completed"
    },
    "tags": []
   },
   "outputs": [
    {
     "data": {
      "text/html": [
       "<div>\n",
       "<style scoped>\n",
       "    .dataframe tbody tr th:only-of-type {\n",
       "        vertical-align: middle;\n",
       "    }\n",
       "\n",
       "    .dataframe tbody tr th {\n",
       "        vertical-align: top;\n",
       "    }\n",
       "\n",
       "    .dataframe thead th {\n",
       "        text-align: right;\n",
       "    }\n",
       "</style>\n",
       "<table border=\"1\" class=\"dataframe\">\n",
       "  <thead>\n",
       "    <tr style=\"text-align: right;\">\n",
       "      <th></th>\n",
       "      <th>title</th>\n",
       "      <th>author</th>\n",
       "      <th>date</th>\n",
       "      <th>views</th>\n",
       "      <th>likes</th>\n",
       "      <th>link</th>\n",
       "    </tr>\n",
       "  </thead>\n",
       "  <tbody>\n",
       "    <tr>\n",
       "      <th>0</th>\n",
       "      <td>Climate action needs new frontline leadership</td>\n",
       "      <td>Ozawa Bineshi Albert</td>\n",
       "      <td>December 2021</td>\n",
       "      <td>404000</td>\n",
       "      <td>12000</td>\n",
       "      <td>https://ted.com/talks/ozawa_bineshi_albert_cli...</td>\n",
       "    </tr>\n",
       "    <tr>\n",
       "      <th>1</th>\n",
       "      <td>The dark history of the overthrow of Hawaii</td>\n",
       "      <td>Sydney Iaukea</td>\n",
       "      <td>February 2022</td>\n",
       "      <td>214000</td>\n",
       "      <td>6400</td>\n",
       "      <td>https://ted.com/talks/sydney_iaukea_the_dark_h...</td>\n",
       "    </tr>\n",
       "    <tr>\n",
       "      <th>2</th>\n",
       "      <td>How play can spark new ideas for your business</td>\n",
       "      <td>Martin Reeves</td>\n",
       "      <td>September 2021</td>\n",
       "      <td>412000</td>\n",
       "      <td>12000</td>\n",
       "      <td>https://ted.com/talks/martin_reeves_how_play_c...</td>\n",
       "    </tr>\n",
       "    <tr>\n",
       "      <th>3</th>\n",
       "      <td>Why is China appointing judges to combat clima...</td>\n",
       "      <td>James K. Thornton</td>\n",
       "      <td>October 2021</td>\n",
       "      <td>427000</td>\n",
       "      <td>12000</td>\n",
       "      <td>https://ted.com/talks/james_k_thornton_why_is_...</td>\n",
       "    </tr>\n",
       "    <tr>\n",
       "      <th>4</th>\n",
       "      <td>Cement's carbon problem — and 2 ways to fix it</td>\n",
       "      <td>Mahendra Singhi</td>\n",
       "      <td>October 2021</td>\n",
       "      <td>2400</td>\n",
       "      <td>72</td>\n",
       "      <td>https://ted.com/talks/mahendra_singhi_cement_s...</td>\n",
       "    </tr>\n",
       "    <tr>\n",
       "      <th>...</th>\n",
       "      <td>...</td>\n",
       "      <td>...</td>\n",
       "      <td>...</td>\n",
       "      <td>...</td>\n",
       "      <td>...</td>\n",
       "      <td>...</td>\n",
       "    </tr>\n",
       "    <tr>\n",
       "      <th>5435</th>\n",
       "      <td>The best stats you've ever seen</td>\n",
       "      <td>Hans Rosling</td>\n",
       "      <td>February 2006</td>\n",
       "      <td>15000000</td>\n",
       "      <td>458000</td>\n",
       "      <td>https://ted.com/talks/hans_rosling_the_best_st...</td>\n",
       "    </tr>\n",
       "    <tr>\n",
       "      <th>5436</th>\n",
       "      <td>Do schools kill creativity?</td>\n",
       "      <td>Sir Ken Robinson</td>\n",
       "      <td>February 2006</td>\n",
       "      <td>72000000</td>\n",
       "      <td>2100000</td>\n",
       "      <td>https://ted.com/talks/sir_ken_robinson_do_scho...</td>\n",
       "    </tr>\n",
       "    <tr>\n",
       "      <th>5437</th>\n",
       "      <td>Greening the ghetto</td>\n",
       "      <td>Majora Carter</td>\n",
       "      <td>February 2006</td>\n",
       "      <td>2900000</td>\n",
       "      <td>88000</td>\n",
       "      <td>https://ted.com/talks/majora_carter_greening_t...</td>\n",
       "    </tr>\n",
       "    <tr>\n",
       "      <th>5438</th>\n",
       "      <td>Simplicity sells</td>\n",
       "      <td>David Pogue</td>\n",
       "      <td>February 2006</td>\n",
       "      <td>2000000</td>\n",
       "      <td>60000</td>\n",
       "      <td>https://ted.com/talks/david_pogue_simplicity_s...</td>\n",
       "    </tr>\n",
       "    <tr>\n",
       "      <th>5439</th>\n",
       "      <td>Averting the climate crisis</td>\n",
       "      <td>Al Gore</td>\n",
       "      <td>February 2006</td>\n",
       "      <td>3600000</td>\n",
       "      <td>109000</td>\n",
       "      <td>https://ted.com/talks/al_gore_averting_the_cli...</td>\n",
       "    </tr>\n",
       "  </tbody>\n",
       "</table>\n",
       "<p>5439 rows × 6 columns</p>\n",
       "</div>"
      ],
      "text/plain": [
       "                                                  title                author  \\\n",
       "0         Climate action needs new frontline leadership  Ozawa Bineshi Albert   \n",
       "1           The dark history of the overthrow of Hawaii         Sydney Iaukea   \n",
       "2        How play can spark new ideas for your business         Martin Reeves   \n",
       "3     Why is China appointing judges to combat clima...     James K. Thornton   \n",
       "4        Cement's carbon problem — and 2 ways to fix it       Mahendra Singhi   \n",
       "...                                                 ...                   ...   \n",
       "5435                    The best stats you've ever seen          Hans Rosling   \n",
       "5436                        Do schools kill creativity?      Sir Ken Robinson   \n",
       "5437                                Greening the ghetto         Majora Carter   \n",
       "5438                                   Simplicity sells           David Pogue   \n",
       "5439                        Averting the climate crisis               Al Gore   \n",
       "\n",
       "                date     views    likes  \\\n",
       "0      December 2021    404000    12000   \n",
       "1      February 2022    214000     6400   \n",
       "2     September 2021    412000    12000   \n",
       "3       October 2021    427000    12000   \n",
       "4       October 2021      2400       72   \n",
       "...              ...       ...      ...   \n",
       "5435   February 2006  15000000   458000   \n",
       "5436   February 2006  72000000  2100000   \n",
       "5437   February 2006   2900000    88000   \n",
       "5438   February 2006   2000000    60000   \n",
       "5439   February 2006   3600000   109000   \n",
       "\n",
       "                                                   link  \n",
       "0     https://ted.com/talks/ozawa_bineshi_albert_cli...  \n",
       "1     https://ted.com/talks/sydney_iaukea_the_dark_h...  \n",
       "2     https://ted.com/talks/martin_reeves_how_play_c...  \n",
       "3     https://ted.com/talks/james_k_thornton_why_is_...  \n",
       "4     https://ted.com/talks/mahendra_singhi_cement_s...  \n",
       "...                                                 ...  \n",
       "5435  https://ted.com/talks/hans_rosling_the_best_st...  \n",
       "5436  https://ted.com/talks/sir_ken_robinson_do_scho...  \n",
       "5437  https://ted.com/talks/majora_carter_greening_t...  \n",
       "5438  https://ted.com/talks/david_pogue_simplicity_s...  \n",
       "5439  https://ted.com/talks/al_gore_averting_the_cli...  \n",
       "\n",
       "[5439 rows x 6 columns]"
      ]
     },
     "execution_count": 11,
     "metadata": {},
     "output_type": "execute_result"
    }
   ],
   "source": [
    "df"
   ]
  },
  {
   "cell_type": "markdown",
   "id": "55568636",
   "metadata": {
    "papermill": {
     "duration": 0.039593,
     "end_time": "2022-05-23T12:10:11.844529",
     "exception": false,
     "start_time": "2022-05-23T12:10:11.804936",
     "status": "completed"
    },
    "tags": []
   },
   "source": [
    "### average no of views per Ted Talk"
   ]
  },
  {
   "cell_type": "code",
   "execution_count": 12,
   "id": "0d7d306b",
   "metadata": {
    "execution": {
     "iopub.execute_input": "2022-05-23T12:10:11.928659Z",
     "iopub.status.busy": "2022-05-23T12:10:11.928097Z",
     "iopub.status.idle": "2022-05-23T12:10:11.935503Z",
     "shell.execute_reply": "2022-05-23T12:10:11.934123Z"
    },
    "papermill": {
     "duration": 0.053855,
     "end_time": "2022-05-23T12:10:11.938281",
     "exception": false,
     "start_time": "2022-05-23T12:10:11.884426",
     "status": "completed"
    },
    "tags": []
   },
   "outputs": [
    {
     "name": "stdout",
     "output_type": "stream",
     "text": [
      "2061954\n"
     ]
    }
   ],
   "source": [
    "t = 0 \n",
    "for i in data:\n",
    "    t = t+i[3]\n",
    "print(int(t/len(data)))"
   ]
  },
  {
   "cell_type": "markdown",
   "id": "82fa53e0",
   "metadata": {
    "papermill": {
     "duration": 0.040552,
     "end_time": "2022-05-23T12:10:12.025675",
     "exception": false,
     "start_time": "2022-05-23T12:10:11.985123",
     "status": "completed"
    },
    "tags": []
   },
   "source": [
    "### Average no of views for Bill Gates"
   ]
  },
  {
   "cell_type": "code",
   "execution_count": 13,
   "id": "2b55d1b1",
   "metadata": {
    "execution": {
     "iopub.execute_input": "2022-05-23T12:10:12.107535Z",
     "iopub.status.busy": "2022-05-23T12:10:12.106851Z",
     "iopub.status.idle": "2022-05-23T12:10:12.113115Z",
     "shell.execute_reply": "2022-05-23T12:10:12.112436Z"
    },
    "papermill": {
     "duration": 0.050373,
     "end_time": "2022-05-23T12:10:12.115037",
     "exception": false,
     "start_time": "2022-05-23T12:10:12.064664",
     "status": "completed"
    },
    "tags": []
   },
   "outputs": [
    {
     "name": "stdout",
     "output_type": "stream",
     "text": [
      "9725000\n"
     ]
    }
   ],
   "source": [
    "t = 0\n",
    "l =0 \n",
    "for i in data:\n",
    "    if i[1] == 'Bill Gates':\n",
    "        t+=i[3]\n",
    "        l+=1\n",
    "print(int(t/l))"
   ]
  },
  {
   "cell_type": "markdown",
   "id": "1f8e1634",
   "metadata": {
    "papermill": {
     "duration": 0.037945,
     "end_time": "2022-05-23T12:10:12.193094",
     "exception": false,
     "start_time": "2022-05-23T12:10:12.155149",
     "status": "completed"
    },
    "tags": []
   },
   "source": [
    "### Like to Views Ratio"
   ]
  },
  {
   "cell_type": "code",
   "execution_count": 14,
   "id": "b7e8bb7a",
   "metadata": {
    "execution": {
     "iopub.execute_input": "2022-05-23T12:10:12.278574Z",
     "iopub.status.busy": "2022-05-23T12:10:12.277387Z",
     "iopub.status.idle": "2022-05-23T12:10:12.287981Z",
     "shell.execute_reply": "2022-05-23T12:10:12.287020Z"
    },
    "papermill": {
     "duration": 0.059177,
     "end_time": "2022-05-23T12:10:12.290297",
     "exception": false,
     "start_time": "2022-05-23T12:10:12.231120",
     "status": "completed"
    },
    "tags": []
   },
   "outputs": [],
   "source": [
    "views_to_like_ratio = []\n",
    "for i in data:\n",
    "    views_to_like_ratio.append((i[3]/i[4]))"
   ]
  },
  {
   "cell_type": "code",
   "execution_count": 15,
   "id": "8e9680cb",
   "metadata": {
    "execution": {
     "iopub.execute_input": "2022-05-23T12:10:12.385271Z",
     "iopub.status.busy": "2022-05-23T12:10:12.384867Z",
     "iopub.status.idle": "2022-05-23T12:10:12.394176Z",
     "shell.execute_reply": "2022-05-23T12:10:12.393302Z"
    },
    "papermill": {
     "duration": 0.052593,
     "end_time": "2022-05-23T12:10:12.396422",
     "exception": false,
     "start_time": "2022-05-23T12:10:12.343829",
     "status": "completed"
    },
    "tags": []
   },
   "outputs": [],
   "source": [
    "df['vtl_ratio'] = views_to_like_ratio"
   ]
  },
  {
   "cell_type": "code",
   "execution_count": 16,
   "id": "e324840b",
   "metadata": {
    "execution": {
     "iopub.execute_input": "2022-05-23T12:10:12.488350Z",
     "iopub.status.busy": "2022-05-23T12:10:12.487938Z",
     "iopub.status.idle": "2022-05-23T12:10:12.504319Z",
     "shell.execute_reply": "2022-05-23T12:10:12.503417Z"
    },
    "papermill": {
     "duration": 0.060453,
     "end_time": "2022-05-23T12:10:12.506431",
     "exception": false,
     "start_time": "2022-05-23T12:10:12.445978",
     "status": "completed"
    },
    "tags": []
   },
   "outputs": [
    {
     "data": {
      "text/html": [
       "<div>\n",
       "<style scoped>\n",
       "    .dataframe tbody tr th:only-of-type {\n",
       "        vertical-align: middle;\n",
       "    }\n",
       "\n",
       "    .dataframe tbody tr th {\n",
       "        vertical-align: top;\n",
       "    }\n",
       "\n",
       "    .dataframe thead th {\n",
       "        text-align: right;\n",
       "    }\n",
       "</style>\n",
       "<table border=\"1\" class=\"dataframe\">\n",
       "  <thead>\n",
       "    <tr style=\"text-align: right;\">\n",
       "      <th></th>\n",
       "      <th>title</th>\n",
       "      <th>author</th>\n",
       "      <th>date</th>\n",
       "      <th>views</th>\n",
       "      <th>likes</th>\n",
       "      <th>link</th>\n",
       "      <th>vtl_ratio</th>\n",
       "    </tr>\n",
       "  </thead>\n",
       "  <tbody>\n",
       "    <tr>\n",
       "      <th>0</th>\n",
       "      <td>Climate action needs new frontline leadership</td>\n",
       "      <td>Ozawa Bineshi Albert</td>\n",
       "      <td>December 2021</td>\n",
       "      <td>404000</td>\n",
       "      <td>12000</td>\n",
       "      <td>https://ted.com/talks/ozawa_bineshi_albert_cli...</td>\n",
       "      <td>33.666667</td>\n",
       "    </tr>\n",
       "    <tr>\n",
       "      <th>1</th>\n",
       "      <td>The dark history of the overthrow of Hawaii</td>\n",
       "      <td>Sydney Iaukea</td>\n",
       "      <td>February 2022</td>\n",
       "      <td>214000</td>\n",
       "      <td>6400</td>\n",
       "      <td>https://ted.com/talks/sydney_iaukea_the_dark_h...</td>\n",
       "      <td>33.437500</td>\n",
       "    </tr>\n",
       "    <tr>\n",
       "      <th>2</th>\n",
       "      <td>How play can spark new ideas for your business</td>\n",
       "      <td>Martin Reeves</td>\n",
       "      <td>September 2021</td>\n",
       "      <td>412000</td>\n",
       "      <td>12000</td>\n",
       "      <td>https://ted.com/talks/martin_reeves_how_play_c...</td>\n",
       "      <td>34.333333</td>\n",
       "    </tr>\n",
       "    <tr>\n",
       "      <th>3</th>\n",
       "      <td>Why is China appointing judges to combat clima...</td>\n",
       "      <td>James K. Thornton</td>\n",
       "      <td>October 2021</td>\n",
       "      <td>427000</td>\n",
       "      <td>12000</td>\n",
       "      <td>https://ted.com/talks/james_k_thornton_why_is_...</td>\n",
       "      <td>35.583333</td>\n",
       "    </tr>\n",
       "    <tr>\n",
       "      <th>4</th>\n",
       "      <td>Cement's carbon problem — and 2 ways to fix it</td>\n",
       "      <td>Mahendra Singhi</td>\n",
       "      <td>October 2021</td>\n",
       "      <td>2400</td>\n",
       "      <td>72</td>\n",
       "      <td>https://ted.com/talks/mahendra_singhi_cement_s...</td>\n",
       "      <td>33.333333</td>\n",
       "    </tr>\n",
       "    <tr>\n",
       "      <th>...</th>\n",
       "      <td>...</td>\n",
       "      <td>...</td>\n",
       "      <td>...</td>\n",
       "      <td>...</td>\n",
       "      <td>...</td>\n",
       "      <td>...</td>\n",
       "      <td>...</td>\n",
       "    </tr>\n",
       "    <tr>\n",
       "      <th>5435</th>\n",
       "      <td>The best stats you've ever seen</td>\n",
       "      <td>Hans Rosling</td>\n",
       "      <td>February 2006</td>\n",
       "      <td>15000000</td>\n",
       "      <td>458000</td>\n",
       "      <td>https://ted.com/talks/hans_rosling_the_best_st...</td>\n",
       "      <td>32.751092</td>\n",
       "    </tr>\n",
       "    <tr>\n",
       "      <th>5436</th>\n",
       "      <td>Do schools kill creativity?</td>\n",
       "      <td>Sir Ken Robinson</td>\n",
       "      <td>February 2006</td>\n",
       "      <td>72000000</td>\n",
       "      <td>2100000</td>\n",
       "      <td>https://ted.com/talks/sir_ken_robinson_do_scho...</td>\n",
       "      <td>34.285714</td>\n",
       "    </tr>\n",
       "    <tr>\n",
       "      <th>5437</th>\n",
       "      <td>Greening the ghetto</td>\n",
       "      <td>Majora Carter</td>\n",
       "      <td>February 2006</td>\n",
       "      <td>2900000</td>\n",
       "      <td>88000</td>\n",
       "      <td>https://ted.com/talks/majora_carter_greening_t...</td>\n",
       "      <td>32.954545</td>\n",
       "    </tr>\n",
       "    <tr>\n",
       "      <th>5438</th>\n",
       "      <td>Simplicity sells</td>\n",
       "      <td>David Pogue</td>\n",
       "      <td>February 2006</td>\n",
       "      <td>2000000</td>\n",
       "      <td>60000</td>\n",
       "      <td>https://ted.com/talks/david_pogue_simplicity_s...</td>\n",
       "      <td>33.333333</td>\n",
       "    </tr>\n",
       "    <tr>\n",
       "      <th>5439</th>\n",
       "      <td>Averting the climate crisis</td>\n",
       "      <td>Al Gore</td>\n",
       "      <td>February 2006</td>\n",
       "      <td>3600000</td>\n",
       "      <td>109000</td>\n",
       "      <td>https://ted.com/talks/al_gore_averting_the_cli...</td>\n",
       "      <td>33.027523</td>\n",
       "    </tr>\n",
       "  </tbody>\n",
       "</table>\n",
       "<p>5439 rows × 7 columns</p>\n",
       "</div>"
      ],
      "text/plain": [
       "                                                  title                author  \\\n",
       "0         Climate action needs new frontline leadership  Ozawa Bineshi Albert   \n",
       "1           The dark history of the overthrow of Hawaii         Sydney Iaukea   \n",
       "2        How play can spark new ideas for your business         Martin Reeves   \n",
       "3     Why is China appointing judges to combat clima...     James K. Thornton   \n",
       "4        Cement's carbon problem — and 2 ways to fix it       Mahendra Singhi   \n",
       "...                                                 ...                   ...   \n",
       "5435                    The best stats you've ever seen          Hans Rosling   \n",
       "5436                        Do schools kill creativity?      Sir Ken Robinson   \n",
       "5437                                Greening the ghetto         Majora Carter   \n",
       "5438                                   Simplicity sells           David Pogue   \n",
       "5439                        Averting the climate crisis               Al Gore   \n",
       "\n",
       "                date     views    likes  \\\n",
       "0      December 2021    404000    12000   \n",
       "1      February 2022    214000     6400   \n",
       "2     September 2021    412000    12000   \n",
       "3       October 2021    427000    12000   \n",
       "4       October 2021      2400       72   \n",
       "...              ...       ...      ...   \n",
       "5435   February 2006  15000000   458000   \n",
       "5436   February 2006  72000000  2100000   \n",
       "5437   February 2006   2900000    88000   \n",
       "5438   February 2006   2000000    60000   \n",
       "5439   February 2006   3600000   109000   \n",
       "\n",
       "                                                   link  vtl_ratio  \n",
       "0     https://ted.com/talks/ozawa_bineshi_albert_cli...  33.666667  \n",
       "1     https://ted.com/talks/sydney_iaukea_the_dark_h...  33.437500  \n",
       "2     https://ted.com/talks/martin_reeves_how_play_c...  34.333333  \n",
       "3     https://ted.com/talks/james_k_thornton_why_is_...  35.583333  \n",
       "4     https://ted.com/talks/mahendra_singhi_cement_s...  33.333333  \n",
       "...                                                 ...        ...  \n",
       "5435  https://ted.com/talks/hans_rosling_the_best_st...  32.751092  \n",
       "5436  https://ted.com/talks/sir_ken_robinson_do_scho...  34.285714  \n",
       "5437  https://ted.com/talks/majora_carter_greening_t...  32.954545  \n",
       "5438  https://ted.com/talks/david_pogue_simplicity_s...  33.333333  \n",
       "5439  https://ted.com/talks/al_gore_averting_the_cli...  33.027523  \n",
       "\n",
       "[5439 rows x 7 columns]"
      ]
     },
     "execution_count": 16,
     "metadata": {},
     "output_type": "execute_result"
    }
   ],
   "source": [
    "df"
   ]
  },
  {
   "cell_type": "markdown",
   "id": "368c5fcd",
   "metadata": {
    "papermill": {
     "duration": 0.059181,
     "end_time": "2022-05-23T12:10:12.605478",
     "exception": false,
     "start_time": "2022-05-23T12:10:12.546297",
     "status": "completed"
    },
    "tags": []
   },
   "source": [
    "## Ted Talks of Bill Gates"
   ]
  },
  {
   "cell_type": "code",
   "execution_count": 17,
   "id": "18809874",
   "metadata": {
    "execution": {
     "iopub.execute_input": "2022-05-23T12:10:12.701808Z",
     "iopub.status.busy": "2022-05-23T12:10:12.700947Z",
     "iopub.status.idle": "2022-05-23T12:10:12.719459Z",
     "shell.execute_reply": "2022-05-23T12:10:12.718661Z"
    },
    "papermill": {
     "duration": 0.06587,
     "end_time": "2022-05-23T12:10:12.722623",
     "exception": false,
     "start_time": "2022-05-23T12:10:12.656753",
     "status": "completed"
    },
    "tags": []
   },
   "outputs": [
    {
     "data": {
      "text/html": [
       "<div>\n",
       "<style scoped>\n",
       "    .dataframe tbody tr th:only-of-type {\n",
       "        vertical-align: middle;\n",
       "    }\n",
       "\n",
       "    .dataframe tbody tr th {\n",
       "        vertical-align: top;\n",
       "    }\n",
       "\n",
       "    .dataframe thead th {\n",
       "        text-align: right;\n",
       "    }\n",
       "</style>\n",
       "<table border=\"1\" class=\"dataframe\">\n",
       "  <thead>\n",
       "    <tr style=\"text-align: right;\">\n",
       "      <th></th>\n",
       "      <th>title</th>\n",
       "      <th>author</th>\n",
       "      <th>date</th>\n",
       "      <th>views</th>\n",
       "      <th>likes</th>\n",
       "      <th>link</th>\n",
       "      <th>vtl_ratio</th>\n",
       "    </tr>\n",
       "  </thead>\n",
       "  <tbody>\n",
       "    <tr>\n",
       "      <th>403</th>\n",
       "      <td>The innovations we need to avoid a climate dis...</td>\n",
       "      <td>Bill Gates</td>\n",
       "      <td>March 2021</td>\n",
       "      <td>1700000</td>\n",
       "      <td>53000</td>\n",
       "      <td>https://ted.com/talks/bill_gates_the_innovatio...</td>\n",
       "      <td>32.075472</td>\n",
       "    </tr>\n",
       "    <tr>\n",
       "      <th>789</th>\n",
       "      <td>How the pandemic will shape the near future</td>\n",
       "      <td>Bill Gates</td>\n",
       "      <td>June 2020</td>\n",
       "      <td>4600000</td>\n",
       "      <td>138000</td>\n",
       "      <td>https://ted.com/talks/bill_gates_how_the_pande...</td>\n",
       "      <td>33.333333</td>\n",
       "    </tr>\n",
       "    <tr>\n",
       "      <th>952</th>\n",
       "      <td>How we must respond to the coronavirus pandemic</td>\n",
       "      <td>Bill Gates</td>\n",
       "      <td>March 2020</td>\n",
       "      <td>8600000</td>\n",
       "      <td>259000</td>\n",
       "      <td>https://ted.com/talks/bill_gates_how_we_must_r...</td>\n",
       "      <td>33.204633</td>\n",
       "    </tr>\n",
       "    <tr>\n",
       "      <th>3251</th>\n",
       "      <td>The next outbreak? We're not ready</td>\n",
       "      <td>Bill Gates</td>\n",
       "      <td>March 2015</td>\n",
       "      <td>43000000</td>\n",
       "      <td>1300000</td>\n",
       "      <td>https://ted.com/talks/bill_gates_the_next_outb...</td>\n",
       "      <td>33.076923</td>\n",
       "    </tr>\n",
       "    <tr>\n",
       "      <th>3878</th>\n",
       "      <td>Teachers need real feedback</td>\n",
       "      <td>Bill Gates</td>\n",
       "      <td>May 2013</td>\n",
       "      <td>4500000</td>\n",
       "      <td>135000</td>\n",
       "      <td>https://ted.com/talks/bill_gates_teachers_need...</td>\n",
       "      <td>33.333333</td>\n",
       "    </tr>\n",
       "    <tr>\n",
       "      <th>4560</th>\n",
       "      <td>How state budgets are breaking US schools</td>\n",
       "      <td>Bill Gates</td>\n",
       "      <td>March 2011</td>\n",
       "      <td>2100000</td>\n",
       "      <td>63000</td>\n",
       "      <td>https://ted.com/talks/bill_gates_how_state_bud...</td>\n",
       "      <td>33.333333</td>\n",
       "    </tr>\n",
       "    <tr>\n",
       "      <th>4824</th>\n",
       "      <td>Innovating to zero!</td>\n",
       "      <td>Bill Gates</td>\n",
       "      <td>February 2010</td>\n",
       "      <td>8100000</td>\n",
       "      <td>245000</td>\n",
       "      <td>https://ted.com/talks/bill_gates_innovating_to...</td>\n",
       "      <td>33.061224</td>\n",
       "    </tr>\n",
       "    <tr>\n",
       "      <th>5062</th>\n",
       "      <td>Mosquitos, malaria and education</td>\n",
       "      <td>Bill Gates</td>\n",
       "      <td>February 2009</td>\n",
       "      <td>5200000</td>\n",
       "      <td>156000</td>\n",
       "      <td>https://ted.com/talks/bill_gates_mosquitos_mal...</td>\n",
       "      <td>33.333333</td>\n",
       "    </tr>\n",
       "  </tbody>\n",
       "</table>\n",
       "</div>"
      ],
      "text/plain": [
       "                                                  title      author  \\\n",
       "403   The innovations we need to avoid a climate dis...  Bill Gates   \n",
       "789         How the pandemic will shape the near future  Bill Gates   \n",
       "952     How we must respond to the coronavirus pandemic  Bill Gates   \n",
       "3251                 The next outbreak? We're not ready  Bill Gates   \n",
       "3878                        Teachers need real feedback  Bill Gates   \n",
       "4560          How state budgets are breaking US schools  Bill Gates   \n",
       "4824                                Innovating to zero!  Bill Gates   \n",
       "5062                   Mosquitos, malaria and education  Bill Gates   \n",
       "\n",
       "               date     views    likes  \\\n",
       "403      March 2021   1700000    53000   \n",
       "789       June 2020   4600000   138000   \n",
       "952      March 2020   8600000   259000   \n",
       "3251     March 2015  43000000  1300000   \n",
       "3878       May 2013   4500000   135000   \n",
       "4560     March 2011   2100000    63000   \n",
       "4824  February 2010   8100000   245000   \n",
       "5062  February 2009   5200000   156000   \n",
       "\n",
       "                                                   link  vtl_ratio  \n",
       "403   https://ted.com/talks/bill_gates_the_innovatio...  32.075472  \n",
       "789   https://ted.com/talks/bill_gates_how_the_pande...  33.333333  \n",
       "952   https://ted.com/talks/bill_gates_how_we_must_r...  33.204633  \n",
       "3251  https://ted.com/talks/bill_gates_the_next_outb...  33.076923  \n",
       "3878  https://ted.com/talks/bill_gates_teachers_need...  33.333333  \n",
       "4560  https://ted.com/talks/bill_gates_how_state_bud...  33.333333  \n",
       "4824  https://ted.com/talks/bill_gates_innovating_to...  33.061224  \n",
       "5062  https://ted.com/talks/bill_gates_mosquitos_mal...  33.333333  "
      ]
     },
     "execution_count": 17,
     "metadata": {},
     "output_type": "execute_result"
    }
   ],
   "source": [
    "df[df['author'] == 'Bill Gates']"
   ]
  },
  {
   "cell_type": "markdown",
   "id": "ff14b9fa",
   "metadata": {
    "papermill": {
     "duration": 0.042145,
     "end_time": "2022-05-23T12:10:12.805452",
     "exception": false,
     "start_time": "2022-05-23T12:10:12.763307",
     "status": "completed"
    },
    "tags": []
   },
   "source": [
    "### average views of Bill Gates"
   ]
  },
  {
   "cell_type": "code",
   "execution_count": 18,
   "id": "0b59a7fa",
   "metadata": {
    "execution": {
     "iopub.execute_input": "2022-05-23T12:10:12.894201Z",
     "iopub.status.busy": "2022-05-23T12:10:12.893463Z",
     "iopub.status.idle": "2022-05-23T12:10:12.903362Z",
     "shell.execute_reply": "2022-05-23T12:10:12.902602Z"
    },
    "papermill": {
     "duration": 0.056316,
     "end_time": "2022-05-23T12:10:12.905486",
     "exception": false,
     "start_time": "2022-05-23T12:10:12.849170",
     "status": "completed"
    },
    "tags": []
   },
   "outputs": [
    {
     "data": {
      "text/plain": [
       "9725000.0"
      ]
     },
     "execution_count": 18,
     "metadata": {},
     "output_type": "execute_result"
    }
   ],
   "source": [
    "df[df['author'] == 'Bill Gates']['views'].mean()"
   ]
  },
  {
   "cell_type": "markdown",
   "id": "63c44fb5",
   "metadata": {
    "papermill": {
     "duration": 0.041401,
     "end_time": "2022-05-23T12:10:12.989055",
     "exception": false,
     "start_time": "2022-05-23T12:10:12.947654",
     "status": "completed"
    },
    "tags": []
   },
   "source": [
    "## Most Viewed Ted Talk"
   ]
  },
  {
   "cell_type": "code",
   "execution_count": 19,
   "id": "9db05792",
   "metadata": {
    "execution": {
     "iopub.execute_input": "2022-05-23T12:10:13.076436Z",
     "iopub.status.busy": "2022-05-23T12:10:13.075476Z",
     "iopub.status.idle": "2022-05-23T12:10:13.096757Z",
     "shell.execute_reply": "2022-05-23T12:10:13.095601Z"
    },
    "papermill": {
     "duration": 0.067361,
     "end_time": "2022-05-23T12:10:13.099047",
     "exception": false,
     "start_time": "2022-05-23T12:10:13.031686",
     "status": "completed"
    },
    "tags": []
   },
   "outputs": [
    {
     "data": {
      "text/html": [
       "<div>\n",
       "<style scoped>\n",
       "    .dataframe tbody tr th:only-of-type {\n",
       "        vertical-align: middle;\n",
       "    }\n",
       "\n",
       "    .dataframe tbody tr th {\n",
       "        vertical-align: top;\n",
       "    }\n",
       "\n",
       "    .dataframe thead th {\n",
       "        text-align: right;\n",
       "    }\n",
       "</style>\n",
       "<table border=\"1\" class=\"dataframe\">\n",
       "  <thead>\n",
       "    <tr style=\"text-align: right;\">\n",
       "      <th></th>\n",
       "      <th>title</th>\n",
       "      <th>author</th>\n",
       "      <th>date</th>\n",
       "      <th>views</th>\n",
       "      <th>likes</th>\n",
       "      <th>link</th>\n",
       "      <th>vtl_ratio</th>\n",
       "    </tr>\n",
       "  </thead>\n",
       "  <tbody>\n",
       "    <tr>\n",
       "      <th>5436</th>\n",
       "      <td>Do schools kill creativity?</td>\n",
       "      <td>Sir Ken Robinson</td>\n",
       "      <td>February 2006</td>\n",
       "      <td>72000000</td>\n",
       "      <td>2100000</td>\n",
       "      <td>https://ted.com/talks/sir_ken_robinson_do_scho...</td>\n",
       "      <td>34.285714</td>\n",
       "    </tr>\n",
       "    <tr>\n",
       "      <th>4084</th>\n",
       "      <td>Your body language may shape who you are</td>\n",
       "      <td>Amy Cuddy</td>\n",
       "      <td>June 2012</td>\n",
       "      <td>64000000</td>\n",
       "      <td>1900000</td>\n",
       "      <td>https://ted.com/talks/amy_cuddy_your_body_lang...</td>\n",
       "      <td>33.684211</td>\n",
       "    </tr>\n",
       "    <tr>\n",
       "      <th>2958</th>\n",
       "      <td>Inside the mind of a master procrastinator</td>\n",
       "      <td>Tim Urban</td>\n",
       "      <td>February 2016</td>\n",
       "      <td>60000000</td>\n",
       "      <td>1800000</td>\n",
       "      <td>https://ted.com/talks/tim_urban_inside_the_min...</td>\n",
       "      <td>33.333333</td>\n",
       "    </tr>\n",
       "    <tr>\n",
       "      <th>4765</th>\n",
       "      <td>How great leaders inspire action</td>\n",
       "      <td>Simon Sinek</td>\n",
       "      <td>September 2009</td>\n",
       "      <td>57000000</td>\n",
       "      <td>1700000</td>\n",
       "      <td>https://ted.com/talks/simon_sinek_how_great_le...</td>\n",
       "      <td>33.529412</td>\n",
       "    </tr>\n",
       "    <tr>\n",
       "      <th>4605</th>\n",
       "      <td>The power of vulnerability</td>\n",
       "      <td>Brené Brown</td>\n",
       "      <td>June 2010</td>\n",
       "      <td>56000000</td>\n",
       "      <td>1700000</td>\n",
       "      <td>https://ted.com/talks/brene_brown_the_power_of...</td>\n",
       "      <td>32.941176</td>\n",
       "    </tr>\n",
       "  </tbody>\n",
       "</table>\n",
       "</div>"
      ],
      "text/plain": [
       "                                           title            author  \\\n",
       "5436                 Do schools kill creativity?  Sir Ken Robinson   \n",
       "4084    Your body language may shape who you are         Amy Cuddy   \n",
       "2958  Inside the mind of a master procrastinator         Tim Urban   \n",
       "4765            How great leaders inspire action       Simon Sinek   \n",
       "4605                  The power of vulnerability       Brené Brown   \n",
       "\n",
       "                date     views    likes  \\\n",
       "5436   February 2006  72000000  2100000   \n",
       "4084       June 2012  64000000  1900000   \n",
       "2958   February 2016  60000000  1800000   \n",
       "4765  September 2009  57000000  1700000   \n",
       "4605       June 2010  56000000  1700000   \n",
       "\n",
       "                                                   link  vtl_ratio  \n",
       "5436  https://ted.com/talks/sir_ken_robinson_do_scho...  34.285714  \n",
       "4084  https://ted.com/talks/amy_cuddy_your_body_lang...  33.684211  \n",
       "2958  https://ted.com/talks/tim_urban_inside_the_min...  33.333333  \n",
       "4765  https://ted.com/talks/simon_sinek_how_great_le...  33.529412  \n",
       "4605  https://ted.com/talks/brene_brown_the_power_of...  32.941176  "
      ]
     },
     "execution_count": 19,
     "metadata": {},
     "output_type": "execute_result"
    }
   ],
   "source": [
    "df.sort_values(by = 'views',ascending = False).head()"
   ]
  },
  {
   "cell_type": "markdown",
   "id": "dda9fd4d",
   "metadata": {
    "papermill": {
     "duration": 0.045028,
     "end_time": "2022-05-23T12:10:13.187526",
     "exception": false,
     "start_time": "2022-05-23T12:10:13.142498",
     "status": "completed"
    },
    "tags": []
   },
   "source": [
    "## Most Liked Ted Talk"
   ]
  },
  {
   "cell_type": "code",
   "execution_count": 20,
   "id": "b6b951b8",
   "metadata": {
    "execution": {
     "iopub.execute_input": "2022-05-23T12:10:13.271353Z",
     "iopub.status.busy": "2022-05-23T12:10:13.271083Z",
     "iopub.status.idle": "2022-05-23T12:10:13.288654Z",
     "shell.execute_reply": "2022-05-23T12:10:13.287980Z"
    },
    "papermill": {
     "duration": 0.062485,
     "end_time": "2022-05-23T12:10:13.290673",
     "exception": false,
     "start_time": "2022-05-23T12:10:13.228188",
     "status": "completed"
    },
    "tags": []
   },
   "outputs": [
    {
     "data": {
      "text/html": [
       "<div>\n",
       "<style scoped>\n",
       "    .dataframe tbody tr th:only-of-type {\n",
       "        vertical-align: middle;\n",
       "    }\n",
       "\n",
       "    .dataframe tbody tr th {\n",
       "        vertical-align: top;\n",
       "    }\n",
       "\n",
       "    .dataframe thead th {\n",
       "        text-align: right;\n",
       "    }\n",
       "</style>\n",
       "<table border=\"1\" class=\"dataframe\">\n",
       "  <thead>\n",
       "    <tr style=\"text-align: right;\">\n",
       "      <th></th>\n",
       "      <th>title</th>\n",
       "      <th>author</th>\n",
       "      <th>date</th>\n",
       "      <th>views</th>\n",
       "      <th>likes</th>\n",
       "      <th>link</th>\n",
       "      <th>vtl_ratio</th>\n",
       "    </tr>\n",
       "  </thead>\n",
       "  <tbody>\n",
       "    <tr>\n",
       "      <th>5436</th>\n",
       "      <td>Do schools kill creativity?</td>\n",
       "      <td>Sir Ken Robinson</td>\n",
       "      <td>February 2006</td>\n",
       "      <td>72000000</td>\n",
       "      <td>2100000</td>\n",
       "      <td>https://ted.com/talks/sir_ken_robinson_do_scho...</td>\n",
       "      <td>34.285714</td>\n",
       "    </tr>\n",
       "    <tr>\n",
       "      <th>4084</th>\n",
       "      <td>Your body language may shape who you are</td>\n",
       "      <td>Amy Cuddy</td>\n",
       "      <td>June 2012</td>\n",
       "      <td>64000000</td>\n",
       "      <td>1900000</td>\n",
       "      <td>https://ted.com/talks/amy_cuddy_your_body_lang...</td>\n",
       "      <td>33.684211</td>\n",
       "    </tr>\n",
       "    <tr>\n",
       "      <th>2958</th>\n",
       "      <td>Inside the mind of a master procrastinator</td>\n",
       "      <td>Tim Urban</td>\n",
       "      <td>February 2016</td>\n",
       "      <td>60000000</td>\n",
       "      <td>1800000</td>\n",
       "      <td>https://ted.com/talks/tim_urban_inside_the_min...</td>\n",
       "      <td>33.333333</td>\n",
       "    </tr>\n",
       "    <tr>\n",
       "      <th>4765</th>\n",
       "      <td>How great leaders inspire action</td>\n",
       "      <td>Simon Sinek</td>\n",
       "      <td>September 2009</td>\n",
       "      <td>57000000</td>\n",
       "      <td>1700000</td>\n",
       "      <td>https://ted.com/talks/simon_sinek_how_great_le...</td>\n",
       "      <td>33.529412</td>\n",
       "    </tr>\n",
       "    <tr>\n",
       "      <th>4605</th>\n",
       "      <td>The power of vulnerability</td>\n",
       "      <td>Brené Brown</td>\n",
       "      <td>June 2010</td>\n",
       "      <td>56000000</td>\n",
       "      <td>1700000</td>\n",
       "      <td>https://ted.com/talks/brene_brown_the_power_of...</td>\n",
       "      <td>32.941176</td>\n",
       "    </tr>\n",
       "    <tr>\n",
       "      <th>...</th>\n",
       "      <td>...</td>\n",
       "      <td>...</td>\n",
       "      <td>...</td>\n",
       "      <td>...</td>\n",
       "      <td>...</td>\n",
       "      <td>...</td>\n",
       "      <td>...</td>\n",
       "    </tr>\n",
       "    <tr>\n",
       "      <th>478</th>\n",
       "      <td>The case for public media</td>\n",
       "      <td>Qi Wu 吴琪</td>\n",
       "      <td>November 2020</td>\n",
       "      <td>1500</td>\n",
       "      <td>47</td>\n",
       "      <td>https://ted.com/talks/qi_wu_the_case_for_publi...</td>\n",
       "      <td>31.914894</td>\n",
       "    </tr>\n",
       "    <tr>\n",
       "      <th>1064</th>\n",
       "      <td>\"Jamie Raeburn\" / \"Baloo Baleerie\" / \"Twa recr...</td>\n",
       "      <td>Findlay Napier and Gillian Frame</td>\n",
       "      <td>July 2019</td>\n",
       "      <td>1300</td>\n",
       "      <td>40</td>\n",
       "      <td>https://ted.com/talks/findlay_napier_and_gilli...</td>\n",
       "      <td>32.500000</td>\n",
       "    </tr>\n",
       "    <tr>\n",
       "      <th>1692</th>\n",
       "      <td>\"Part II. The Journey Through Time\" / \"Ruslan ...</td>\n",
       "      <td>Deutsche Philharmonie Merck</td>\n",
       "      <td>November 2018</td>\n",
       "      <td>1300</td>\n",
       "      <td>40</td>\n",
       "      <td>https://ted.com/talks/deutsche_philharmonie_me...</td>\n",
       "      <td>32.500000</td>\n",
       "    </tr>\n",
       "    <tr>\n",
       "      <th>552</th>\n",
       "      <td>Virtual Worlds</td>\n",
       "      <td>Far Flung</td>\n",
       "      <td>November 2020</td>\n",
       "      <td>1300</td>\n",
       "      <td>39</td>\n",
       "      <td>https://ted.com/talks/far_flung_virtual_worlds</td>\n",
       "      <td>33.333333</td>\n",
       "    </tr>\n",
       "    <tr>\n",
       "      <th>613</th>\n",
       "      <td>Post-Pandemic Paradise in Rapa Nui</td>\n",
       "      <td>Far Flung</td>\n",
       "      <td>October 2020</td>\n",
       "      <td>1200</td>\n",
       "      <td>37</td>\n",
       "      <td>https://ted.com/talks/far_flung_post_pandemic_...</td>\n",
       "      <td>32.432432</td>\n",
       "    </tr>\n",
       "  </tbody>\n",
       "</table>\n",
       "<p>5439 rows × 7 columns</p>\n",
       "</div>"
      ],
      "text/plain": [
       "                                                  title  \\\n",
       "5436                        Do schools kill creativity?   \n",
       "4084           Your body language may shape who you are   \n",
       "2958         Inside the mind of a master procrastinator   \n",
       "4765                   How great leaders inspire action   \n",
       "4605                         The power of vulnerability   \n",
       "...                                                 ...   \n",
       "478                           The case for public media   \n",
       "1064  \"Jamie Raeburn\" / \"Baloo Baleerie\" / \"Twa recr...   \n",
       "1692  \"Part II. The Journey Through Time\" / \"Ruslan ...   \n",
       "552                                      Virtual Worlds   \n",
       "613                  Post-Pandemic Paradise in Rapa Nui   \n",
       "\n",
       "                                author            date     views    likes  \\\n",
       "5436                  Sir Ken Robinson   February 2006  72000000  2100000   \n",
       "4084                         Amy Cuddy       June 2012  64000000  1900000   \n",
       "2958                         Tim Urban   February 2016  60000000  1800000   \n",
       "4765                       Simon Sinek  September 2009  57000000  1700000   \n",
       "4605                       Brené Brown       June 2010  56000000  1700000   \n",
       "...                                ...             ...       ...      ...   \n",
       "478                           Qi Wu 吴琪   November 2020      1500       47   \n",
       "1064  Findlay Napier and Gillian Frame       July 2019      1300       40   \n",
       "1692       Deutsche Philharmonie Merck   November 2018      1300       40   \n",
       "552                          Far Flung   November 2020      1300       39   \n",
       "613                          Far Flung    October 2020      1200       37   \n",
       "\n",
       "                                                   link  vtl_ratio  \n",
       "5436  https://ted.com/talks/sir_ken_robinson_do_scho...  34.285714  \n",
       "4084  https://ted.com/talks/amy_cuddy_your_body_lang...  33.684211  \n",
       "2958  https://ted.com/talks/tim_urban_inside_the_min...  33.333333  \n",
       "4765  https://ted.com/talks/simon_sinek_how_great_le...  33.529412  \n",
       "4605  https://ted.com/talks/brene_brown_the_power_of...  32.941176  \n",
       "...                                                 ...        ...  \n",
       "478   https://ted.com/talks/qi_wu_the_case_for_publi...  31.914894  \n",
       "1064  https://ted.com/talks/findlay_napier_and_gilli...  32.500000  \n",
       "1692  https://ted.com/talks/deutsche_philharmonie_me...  32.500000  \n",
       "552      https://ted.com/talks/far_flung_virtual_worlds  33.333333  \n",
       "613   https://ted.com/talks/far_flung_post_pandemic_...  32.432432  \n",
       "\n",
       "[5439 rows x 7 columns]"
      ]
     },
     "execution_count": 20,
     "metadata": {},
     "output_type": "execute_result"
    }
   ],
   "source": [
    "df.sort_values(by = 'likes', ascending = False)"
   ]
  },
  {
   "cell_type": "markdown",
   "id": "dfd8c795",
   "metadata": {
    "papermill": {
     "duration": 0.046753,
     "end_time": "2022-05-23T12:10:13.382006",
     "exception": false,
     "start_time": "2022-05-23T12:10:13.335253",
     "status": "completed"
    },
    "tags": []
   },
   "source": [
    "## Which author has given the most number of Ted Talk"
   ]
  },
  {
   "cell_type": "code",
   "execution_count": 21,
   "id": "0b408a29",
   "metadata": {
    "execution": {
     "iopub.execute_input": "2022-05-23T12:10:13.476410Z",
     "iopub.status.busy": "2022-05-23T12:10:13.476114Z",
     "iopub.status.idle": "2022-05-23T12:10:13.490562Z",
     "shell.execute_reply": "2022-05-23T12:10:13.489918Z"
    },
    "papermill": {
     "duration": 0.061776,
     "end_time": "2022-05-23T12:10:13.492468",
     "exception": false,
     "start_time": "2022-05-23T12:10:13.430692",
     "status": "completed"
    },
    "tags": []
   },
   "outputs": [
    {
     "data": {
      "text/plain": [
       "count             5439\n",
       "unique            4443\n",
       "top       Alex Gendler\n",
       "freq                45\n",
       "Name: author, dtype: object"
      ]
     },
     "execution_count": 21,
     "metadata": {},
     "output_type": "execute_result"
    }
   ],
   "source": [
    "df['author'].describe()"
   ]
  },
  {
   "cell_type": "code",
   "execution_count": 22,
   "id": "19404118",
   "metadata": {
    "execution": {
     "iopub.execute_input": "2022-05-23T12:10:13.592068Z",
     "iopub.status.busy": "2022-05-23T12:10:13.591505Z",
     "iopub.status.idle": "2022-05-23T12:10:13.601346Z",
     "shell.execute_reply": "2022-05-23T12:10:13.600281Z"
    },
    "papermill": {
     "duration": 0.066534,
     "end_time": "2022-05-23T12:10:13.604839",
     "exception": false,
     "start_time": "2022-05-23T12:10:13.538305",
     "status": "completed"
    },
    "tags": []
   },
   "outputs": [
    {
     "data": {
      "text/plain": [
       "4159911"
      ]
     },
     "execution_count": 22,
     "metadata": {},
     "output_type": "execute_result"
    }
   ],
   "source": [
    "round(df[df['author'] == 'Alex Gendler']['views'].mean())"
   ]
  },
  {
   "cell_type": "markdown",
   "id": "55c81e7b",
   "metadata": {
    "papermill": {
     "duration": 0.046101,
     "end_time": "2022-05-23T12:10:13.696385",
     "exception": false,
     "start_time": "2022-05-23T12:10:13.650284",
     "status": "completed"
    },
    "tags": []
   },
   "source": [
    "# Search For topics in Ted Talks"
   ]
  },
  {
   "cell_type": "code",
   "execution_count": 23,
   "id": "fa6b7145",
   "metadata": {
    "execution": {
     "iopub.execute_input": "2022-05-23T12:10:13.788476Z",
     "iopub.status.busy": "2022-05-23T12:10:13.787949Z",
     "iopub.status.idle": "2022-05-23T12:10:13.801188Z",
     "shell.execute_reply": "2022-05-23T12:10:13.799616Z"
    },
    "papermill": {
     "duration": 0.059926,
     "end_time": "2022-05-23T12:10:13.803964",
     "exception": false,
     "start_time": "2022-05-23T12:10:13.744038",
     "status": "completed"
    },
    "tags": []
   },
   "outputs": [
    {
     "name": "stdout",
     "output_type": "stream",
     "text": [
      "Top Results are...\n",
      "['Sex education should start with consent' ' Kaz' 'December 2021' 649000\n",
      " 19000 'https://ted.com/talks/kaz_sex_education_should_start_with_consent']\n",
      "['Education is a fundamental right for every child' 'Makhtoum Abdalla'\n",
      " 'December 2021' 1000000 32000\n",
      " 'https://ted.com/talks/makhtoum_abdalla_education_is_a_fundamental_right_for_every_child']\n",
      "['3 ways to lower the barriers to higher education' 'Adrian K. Haugabrook'\n",
      " 'August 2021' 1100000 34000\n",
      " 'https://ted.com/talks/adrian_k_haugabrook_3_ways_to_lower_the_barriers_to_higher_education']\n",
      "['What COVID-19 revealed about US schools — and 4 ways to rethink education'\n",
      " 'Nora Flanagan' 'June 2020' 1600000 48000\n",
      " 'https://ted.com/talks/nora_flanagan_what_covid_19_revealed_about_us_schools_and_4_ways_to_rethink_education']\n",
      "['Rethinking education and celebrating the Arabic language'\n",
      " 'Ahmad M. Hasnah' 'June 2020' 3900 117\n",
      " 'https://ted.com/talks/ahmad_m_hasnah_rethinking_education_and_celebrating_the_arabic_language']\n",
      "['A path to higher education and employment for refugees'\n",
      " 'Chrystina Russell' 'June 2020' 515000 15000\n",
      " 'https://ted.com/talks/chrystina_russell_a_path_to_higher_education_and_employment_for_refugees']\n",
      "['The \"opportunity gap\" in US public education — and how to close it'\n",
      " 'Anindya Kundu' 'May 2019' 2400000 73000\n",
      " 'https://ted.com/talks/anindya_kundu_the_opportunity_gap_in_us_public_education_and_how_to_close_it']\n",
      "['The benefits of music education' 'Anita Collins' 'October 2014' 267000\n",
      " 8000\n",
      " 'https://ted.com/talks/anita_collins_the_benefits_of_music_education']\n",
      "['How education helped me rewrite my life' 'Ashweetha Shetty'\n",
      " 'November 2018' 2100000 65000\n",
      " 'https://ted.com/talks/ashweetha_shetty_how_education_helped_me_rewrite_my_life']\n",
      "['How peer educators can transform sex education' 'Thea Holcomb'\n",
      " 'September 2015' 300000 9000\n",
      " 'https://ted.com/talks/thea_holcomb_how_peer_educators_can_transform_sex_education']\n",
      "['Sir Ken Robinson (still) wants an education revolution\\t'\n",
      " 'The TED Interview' 'December 2018' 261000 7800\n",
      " 'https://ted.com/talks/the_ted_interview_sir_ken_robinson_still_wants_an_education_revolution']\n",
      "['Why we need to make education more accessible to the deaf'\n",
      " 'Nyle DiMarco' 'June 2018' 294000 8800\n",
      " 'https://ted.com/talks/nyle_dimarco_why_we_need_to_make_education_more_accessible_to_the_deaf']\n",
      "['Why I fight for the education of refugee girls (like me)' 'Mary Maker'\n",
      " 'June 2018' 1400000 43000\n",
      " 'https://ted.com/talks/mary_maker_why_i_fight_for_the_education_of_refugee_girls_like_me']\n",
      "['The case for reforming STEM education' 'Amara Berry' 'September 2017'\n",
      " 17000 532\n",
      " 'https://ted.com/talks/amara_berry_the_case_for_reforming_stem_education']\n",
      "['Help for kids the education system ignores' 'Victor Rios'\n",
      " 'November 2015' 1600000 49000\n",
      " 'https://ted.com/talks/victor_rios_help_for_kids_the_education_system_ignores']\n",
      "['How to fix a broken education system ... without any more money'\n",
      " 'Seema Bansal' 'May 2016' 1600000 49000\n",
      " 'https://ted.com/talks/seema_bansal_how_to_fix_a_broken_education_system_without_any_more_money']\n",
      "[\"How to escape education's death valley\" 'Sir Ken Robinson' 'April 2013'\n",
      " 11000000 351000\n",
      " 'https://ted.com/talks/sir_ken_robinson_how_to_escape_education_s_death_valley']\n",
      "[\"What we're learning from online education\" 'Daphne Koller' 'June 2012'\n",
      " 2800000 85000\n",
      " 'https://ted.com/talks/daphne_koller_what_we_re_learning_from_online_education']\n",
      "[\"Let's use video to reinvent education\" 'Sal Khan' 'March 2011' 5900000\n",
      " 179000\n",
      " 'https://ted.com/talks/sal_khan_let_s_use_video_to_reinvent_education']\n",
      "['Changing education paradigms' 'Sir Ken Robinson' 'October 2010' 2400000\n",
      " 73000\n",
      " 'https://ted.com/talks/sir_ken_robinson_changing_education_paradigms']\n",
      "['The child-driven education' 'Sugata Mitra' 'July 2010' 3300000 99000\n",
      " 'https://ted.com/talks/sugata_mitra_the_child_driven_education']\n",
      "['Education innovation in the slums' 'Charles Leadbeater' 'April 2010'\n",
      " 949000 28000\n",
      " 'https://ted.com/talks/charles_leadbeater_education_innovation_in_the_slums']\n",
      "['A call to reinvent liberal arts education' 'Liz Coleman' 'February 2009'\n",
      " 691000 20000\n",
      " 'https://ted.com/talks/liz_coleman_a_call_to_reinvent_liberal_arts_education']\n",
      "['A passionate, personal case for education' 'Michelle Obama' 'April 2009'\n",
      " 1300000 41000\n",
      " 'https://ted.com/talks/michelle_obama_a_passionate_personal_case_for_education']\n",
      "['Mosquitos, malaria and education' 'Bill Gates' 'February 2009' 5200000\n",
      " 156000 'https://ted.com/talks/bill_gates_mosquitos_malaria_and_education']\n",
      "['My wish: Manufactured landscapes and green education' 'Edward Burtynsky'\n",
      " 'February 2005' 1400000 42000\n",
      " 'https://ted.com/talks/edward_burtynsky_my_wish_manufactured_landscapes_and_green_education']\n"
     ]
    }
   ],
   "source": [
    "topic = \"education\"\n",
    "print(\"Top Results are...\")\n",
    "for i in data:\n",
    "    if topic.lower() in (i[0].lower()):\n",
    "        print(i)"
   ]
  },
  {
   "cell_type": "markdown",
   "id": "9486e249",
   "metadata": {
    "papermill": {
     "duration": 0.047684,
     "end_time": "2022-05-23T12:10:13.896519",
     "exception": false,
     "start_time": "2022-05-23T12:10:13.848835",
     "status": "completed"
    },
    "tags": []
   },
   "source": [
    "\n",
    "## Top Ted Talks by Views To Likes Ratio"
   ]
  },
  {
   "cell_type": "code",
   "execution_count": 24,
   "id": "19a8d6c7",
   "metadata": {
    "execution": {
     "iopub.execute_input": "2022-05-23T12:10:13.991409Z",
     "iopub.status.busy": "2022-05-23T12:10:13.991094Z",
     "iopub.status.idle": "2022-05-23T12:10:14.007358Z",
     "shell.execute_reply": "2022-05-23T12:10:14.006414Z"
    },
    "papermill": {
     "duration": 0.069958,
     "end_time": "2022-05-23T12:10:14.009826",
     "exception": false,
     "start_time": "2022-05-23T12:10:13.939868",
     "status": "completed"
    },
    "tags": []
   },
   "outputs": [
    {
     "data": {
      "text/html": [
       "<div>\n",
       "<style scoped>\n",
       "    .dataframe tbody tr th:only-of-type {\n",
       "        vertical-align: middle;\n",
       "    }\n",
       "\n",
       "    .dataframe tbody tr th {\n",
       "        vertical-align: top;\n",
       "    }\n",
       "\n",
       "    .dataframe thead th {\n",
       "        text-align: right;\n",
       "    }\n",
       "</style>\n",
       "<table border=\"1\" class=\"dataframe\">\n",
       "  <thead>\n",
       "    <tr style=\"text-align: right;\">\n",
       "      <th></th>\n",
       "      <th>title</th>\n",
       "      <th>author</th>\n",
       "      <th>date</th>\n",
       "      <th>views</th>\n",
       "      <th>likes</th>\n",
       "      <th>link</th>\n",
       "      <th>vtl_ratio</th>\n",
       "    </tr>\n",
       "  </thead>\n",
       "  <tbody>\n",
       "    <tr>\n",
       "      <th>955</th>\n",
       "      <td>A camera that can see around corners</td>\n",
       "      <td>David Lindell</td>\n",
       "      <td>November 2019</td>\n",
       "      <td>364000</td>\n",
       "      <td>10000</td>\n",
       "      <td>https://ted.com/talks/david_lindell_a_camera_t...</td>\n",
       "      <td>36.400000</td>\n",
       "    </tr>\n",
       "    <tr>\n",
       "      <th>905</th>\n",
       "      <td>What's the point(e) of ballet?</td>\n",
       "      <td>Ming Luke</td>\n",
       "      <td>April 2020</td>\n",
       "      <td>364000</td>\n",
       "      <td>10000</td>\n",
       "      <td>https://ted.com/talks/ming_luke_what_s_the_poi...</td>\n",
       "      <td>36.400000</td>\n",
       "    </tr>\n",
       "    <tr>\n",
       "      <th>837</th>\n",
       "      <td>How to see more and care less: The art of Geor...</td>\n",
       "      <td>Iseult Gillespie</td>\n",
       "      <td>June 2020</td>\n",
       "      <td>364000</td>\n",
       "      <td>10000</td>\n",
       "      <td>https://ted.com/talks/iseult_gillespie_how_to_...</td>\n",
       "      <td>36.400000</td>\n",
       "    </tr>\n",
       "    <tr>\n",
       "      <th>26</th>\n",
       "      <td>Can you outsmart the fallacy that divided a na...</td>\n",
       "      <td>Elizabeth Cox</td>\n",
       "      <td>February 2022</td>\n",
       "      <td>363000</td>\n",
       "      <td>10000</td>\n",
       "      <td>https://ted.com/talks/elizabeth_cox_can_you_ou...</td>\n",
       "      <td>36.300000</td>\n",
       "    </tr>\n",
       "    <tr>\n",
       "      <th>1016</th>\n",
       "      <td>The function and fashion of eyeglasses</td>\n",
       "      <td>Debbie Millman</td>\n",
       "      <td>January 2020</td>\n",
       "      <td>363000</td>\n",
       "      <td>10000</td>\n",
       "      <td>https://ted.com/talks/debbie_millman_the_funct...</td>\n",
       "      <td>36.300000</td>\n",
       "    </tr>\n",
       "    <tr>\n",
       "      <th>3089</th>\n",
       "      <td>How computers translate human language</td>\n",
       "      <td>Ioannis Papachimonas</td>\n",
       "      <td>October 2015</td>\n",
       "      <td>398000</td>\n",
       "      <td>11000</td>\n",
       "      <td>https://ted.com/talks/ioannis_papachimonas_how...</td>\n",
       "      <td>36.181818</td>\n",
       "    </tr>\n",
       "    <tr>\n",
       "      <th>4389</th>\n",
       "      <td>The right to understand</td>\n",
       "      <td>Sandra Fisher-Martins</td>\n",
       "      <td>March 2011</td>\n",
       "      <td>361000</td>\n",
       "      <td>10000</td>\n",
       "      <td>https://ted.com/talks/sandra_fisher_martins_th...</td>\n",
       "      <td>36.100000</td>\n",
       "    </tr>\n",
       "    <tr>\n",
       "      <th>4362</th>\n",
       "      <td>How to topple a dictator</td>\n",
       "      <td>Srdja Popovic</td>\n",
       "      <td>November 2011</td>\n",
       "      <td>397000</td>\n",
       "      <td>11000</td>\n",
       "      <td>https://ted.com/talks/srdja_popovic_how_to_top...</td>\n",
       "      <td>36.090909</td>\n",
       "    </tr>\n",
       "    <tr>\n",
       "      <th>5129</th>\n",
       "      <td>On glamour</td>\n",
       "      <td>Virginia Postrel</td>\n",
       "      <td>February 2004</td>\n",
       "      <td>433000</td>\n",
       "      <td>12000</td>\n",
       "      <td>https://ted.com/talks/virginia_postrel_on_glamour</td>\n",
       "      <td>36.083333</td>\n",
       "    </tr>\n",
       "    <tr>\n",
       "      <th>1125</th>\n",
       "      <td>Hacking bacteria to fight cancer</td>\n",
       "      <td>Tal Danino</td>\n",
       "      <td>December 2019</td>\n",
       "      <td>396000</td>\n",
       "      <td>11000</td>\n",
       "      <td>https://ted.com/talks/tal_danino_hacking_bacte...</td>\n",
       "      <td>36.000000</td>\n",
       "    </tr>\n",
       "  </tbody>\n",
       "</table>\n",
       "</div>"
      ],
      "text/plain": [
       "                                                  title  \\\n",
       "955                A camera that can see around corners   \n",
       "905                      What's the point(e) of ballet?   \n",
       "837   How to see more and care less: The art of Geor...   \n",
       "26    Can you outsmart the fallacy that divided a na...   \n",
       "1016             The function and fashion of eyeglasses   \n",
       "3089             How computers translate human language   \n",
       "4389                            The right to understand   \n",
       "4362                           How to topple a dictator   \n",
       "5129                                         On glamour   \n",
       "1125                   Hacking bacteria to fight cancer   \n",
       "\n",
       "                     author           date   views  likes  \\\n",
       "955           David Lindell  November 2019  364000  10000   \n",
       "905               Ming Luke     April 2020  364000  10000   \n",
       "837        Iseult Gillespie      June 2020  364000  10000   \n",
       "26            Elizabeth Cox  February 2022  363000  10000   \n",
       "1016         Debbie Millman   January 2020  363000  10000   \n",
       "3089   Ioannis Papachimonas   October 2015  398000  11000   \n",
       "4389  Sandra Fisher-Martins     March 2011  361000  10000   \n",
       "4362          Srdja Popovic  November 2011  397000  11000   \n",
       "5129       Virginia Postrel  February 2004  433000  12000   \n",
       "1125             Tal Danino  December 2019  396000  11000   \n",
       "\n",
       "                                                   link  vtl_ratio  \n",
       "955   https://ted.com/talks/david_lindell_a_camera_t...  36.400000  \n",
       "905   https://ted.com/talks/ming_luke_what_s_the_poi...  36.400000  \n",
       "837   https://ted.com/talks/iseult_gillespie_how_to_...  36.400000  \n",
       "26    https://ted.com/talks/elizabeth_cox_can_you_ou...  36.300000  \n",
       "1016  https://ted.com/talks/debbie_millman_the_funct...  36.300000  \n",
       "3089  https://ted.com/talks/ioannis_papachimonas_how...  36.181818  \n",
       "4389  https://ted.com/talks/sandra_fisher_martins_th...  36.100000  \n",
       "4362  https://ted.com/talks/srdja_popovic_how_to_top...  36.090909  \n",
       "5129  https://ted.com/talks/virginia_postrel_on_glamour  36.083333  \n",
       "1125  https://ted.com/talks/tal_danino_hacking_bacte...  36.000000  "
      ]
     },
     "execution_count": 24,
     "metadata": {},
     "output_type": "execute_result"
    }
   ],
   "source": [
    "df.sort_values(by = 'vtl_ratio', ascending = False).head(10)"
   ]
  },
  {
   "cell_type": "markdown",
   "id": "4c3659b9",
   "metadata": {
    "papermill": {
     "duration": 0.045892,
     "end_time": "2022-05-23T12:10:14.100936",
     "exception": false,
     "start_time": "2022-05-23T12:10:14.055044",
     "status": "completed"
    },
    "tags": []
   },
   "source": [
    "## Top authors with most no of ted talks"
   ]
  },
  {
   "cell_type": "code",
   "execution_count": 25,
   "id": "124a72b9",
   "metadata": {
    "execution": {
     "iopub.execute_input": "2022-05-23T12:10:14.192295Z",
     "iopub.status.busy": "2022-05-23T12:10:14.191863Z",
     "iopub.status.idle": "2022-05-23T12:10:14.205364Z",
     "shell.execute_reply": "2022-05-23T12:10:14.204216Z"
    },
    "papermill": {
     "duration": 0.062511,
     "end_time": "2022-05-23T12:10:14.207772",
     "exception": false,
     "start_time": "2022-05-23T12:10:14.145261",
     "status": "completed"
    },
    "tags": []
   },
   "outputs": [
    {
     "data": {
      "text/plain": [
       "author\n",
       "Alex Gendler        45\n",
       "Iseult Gillespie    33\n",
       "Matt Walker         18\n",
       "Alex Rosenthal      15\n",
       "Elizabeth Cox       13\n",
       "Emma Bryce          12\n",
       "Daniel Finkel       11\n",
       "Juan Enriquez       11\n",
       "Dan Finkel           9\n",
       "Hans Rosling         9\n",
       "dtype: int64"
      ]
     },
     "execution_count": 25,
     "metadata": {},
     "output_type": "execute_result"
    }
   ],
   "source": [
    "df.groupby('author').size().sort_values(ascending = False).head(10)"
   ]
  },
  {
   "cell_type": "markdown",
   "id": "f5d10e50",
   "metadata": {
    "papermill": {
     "duration": 0.042873,
     "end_time": "2022-05-23T12:10:14.297226",
     "exception": false,
     "start_time": "2022-05-23T12:10:14.254353",
     "status": "completed"
    },
    "tags": []
   },
   "source": [
    "## Top Authors with most no of views\n"
   ]
  },
  {
   "cell_type": "code",
   "execution_count": 26,
   "id": "901d5bc0",
   "metadata": {
    "execution": {
     "iopub.execute_input": "2022-05-23T12:10:14.389655Z",
     "iopub.status.busy": "2022-05-23T12:10:14.389360Z",
     "iopub.status.idle": "2022-05-23T12:10:14.407710Z",
     "shell.execute_reply": "2022-05-23T12:10:14.407020Z"
    },
    "papermill": {
     "duration": 0.06486,
     "end_time": "2022-05-23T12:10:14.409821",
     "exception": false,
     "start_time": "2022-05-23T12:10:14.344961",
     "status": "completed"
    },
    "tags": []
   },
   "outputs": [
    {
     "data": {
      "text/plain": [
       "author\n",
       "Alex Gendler        187196000\n",
       "Sir Ken Robinson     95654000\n",
       "Bill Gates           77800000\n",
       "Simon Sinek          74800000\n",
       "Brené Brown          72000000\n",
       "Julian Treasure      64300000\n",
       "Amy Cuddy            64000000\n",
       "Tim Urban            60000000\n",
       "Iseult Gillespie     54998000\n",
       "Mia Nacamulli        44174000\n",
       "Name: views, dtype: int64"
      ]
     },
     "execution_count": 26,
     "metadata": {},
     "output_type": "execute_result"
    }
   ],
   "source": [
    "df.groupby('author').sum()['views'].sort_values(ascending = False).head(10)"
   ]
  },
  {
   "cell_type": "markdown",
   "id": "189afa43",
   "metadata": {
    "papermill": {
     "duration": 0.048393,
     "end_time": "2022-05-23T12:10:14.506227",
     "exception": false,
     "start_time": "2022-05-23T12:10:14.457834",
     "status": "completed"
    },
    "tags": []
   },
   "source": [
    "## Ted Talks Given In 2021"
   ]
  },
  {
   "cell_type": "code",
   "execution_count": 27,
   "id": "5bac56df",
   "metadata": {
    "execution": {
     "iopub.execute_input": "2022-05-23T12:10:14.600625Z",
     "iopub.status.busy": "2022-05-23T12:10:14.600149Z",
     "iopub.status.idle": "2022-05-23T12:10:14.609465Z",
     "shell.execute_reply": "2022-05-23T12:10:14.608599Z"
    },
    "papermill": {
     "duration": 0.059446,
     "end_time": "2022-05-23T12:10:14.611822",
     "exception": false,
     "start_time": "2022-05-23T12:10:14.552376",
     "status": "completed"
    },
    "tags": []
   },
   "outputs": [],
   "source": [
    "month = []\n",
    "year = []\n",
    "for date in data:\n",
    "    month.append(date[2].split(\" \")[0])\n",
    "    year.append(date[2].split(\" \")[1])"
   ]
  },
  {
   "cell_type": "code",
   "execution_count": 28,
   "id": "5339e49a",
   "metadata": {
    "execution": {
     "iopub.execute_input": "2022-05-23T12:10:14.708628Z",
     "iopub.status.busy": "2022-05-23T12:10:14.708280Z",
     "iopub.status.idle": "2022-05-23T12:10:14.714490Z",
     "shell.execute_reply": "2022-05-23T12:10:14.713522Z"
    },
    "papermill": {
     "duration": 0.054627,
     "end_time": "2022-05-23T12:10:14.717456",
     "exception": false,
     "start_time": "2022-05-23T12:10:14.662829",
     "status": "completed"
    },
    "tags": []
   },
   "outputs": [],
   "source": [
    "df['month'] = month\n",
    "df['year'] = year"
   ]
  },
  {
   "cell_type": "code",
   "execution_count": 29,
   "id": "bea100a8",
   "metadata": {
    "execution": {
     "iopub.execute_input": "2022-05-23T12:10:14.812114Z",
     "iopub.status.busy": "2022-05-23T12:10:14.811731Z",
     "iopub.status.idle": "2022-05-23T12:10:14.824441Z",
     "shell.execute_reply": "2022-05-23T12:10:14.823573Z"
    },
    "papermill": {
     "duration": 0.064738,
     "end_time": "2022-05-23T12:10:14.827113",
     "exception": false,
     "start_time": "2022-05-23T12:10:14.762375",
     "status": "completed"
    },
    "tags": []
   },
   "outputs": [
    {
     "data": {
      "text/plain": [
       "390"
      ]
     },
     "execution_count": 29,
     "metadata": {},
     "output_type": "execute_result"
    }
   ],
   "source": [
    "len(df[df['year'] == '2021'])"
   ]
  },
  {
   "cell_type": "markdown",
   "id": "9f1321f6",
   "metadata": {
    "papermill": {
     "duration": 0.046126,
     "end_time": "2022-05-23T12:10:14.916916",
     "exception": false,
     "start_time": "2022-05-23T12:10:14.870790",
     "status": "completed"
    },
    "tags": []
   },
   "source": [
    "## Trend of Ted Talks frequency by year"
   ]
  },
  {
   "cell_type": "code",
   "execution_count": 30,
   "id": "2504a8be",
   "metadata": {
    "execution": {
     "iopub.execute_input": "2022-05-23T12:10:15.012018Z",
     "iopub.status.busy": "2022-05-23T12:10:15.011723Z",
     "iopub.status.idle": "2022-05-23T12:10:15.376305Z",
     "shell.execute_reply": "2022-05-23T12:10:15.375423Z"
    },
    "papermill": {
     "duration": 0.4174,
     "end_time": "2022-05-23T12:10:15.378604",
     "exception": false,
     "start_time": "2022-05-23T12:10:14.961204",
     "status": "completed"
    },
    "tags": []
   },
   "outputs": [
    {
     "data": {
      "text/plain": [
       "<AxesSubplot:xlabel='year'>"
      ]
     },
     "execution_count": 30,
     "metadata": {},
     "output_type": "execute_result"
    },
    {
     "data": {
      "image/png": "[encoded data removed]",
      "text/plain": [
       "<Figure size 432x288 with 1 Axes>"
      ]
     },
     "metadata": {
      "needs_background": "light"
     },
     "output_type": "display_data"
    }
   ],
   "source": [
    "df.groupby('year').size().plot(kind = 'bar')"
   ]
  },
  {
   "cell_type": "markdown",
   "id": "5c690924",
   "metadata": {
    "papermill": {
     "duration": 0.049511,
     "end_time": "2022-05-23T12:10:15.474085",
     "exception": false,
     "start_time": "2022-05-23T12:10:15.424574",
     "status": "completed"
    },
    "tags": []
   },
   "source": [
    "### we can see that number of ted talks droped from year 2019 - 2021"
   ]
  },
  {
   "cell_type": "markdown",
   "id": "e5fe55bb",
   "metadata": {
    "papermill": {
     "duration": 0.045254,
     "end_time": "2022-05-23T12:10:15.570665",
     "exception": false,
     "start_time": "2022-05-23T12:10:15.525411",
     "status": "completed"
    },
    "tags": []
   },
   "source": [
    "## Trend of Ted Talks frequency by months"
   ]
  },
  {
   "cell_type": "code",
   "execution_count": 31,
   "id": "67a5118a",
   "metadata": {
    "execution": {
     "iopub.execute_input": "2022-05-23T12:10:15.668353Z",
     "iopub.status.busy": "2022-05-23T12:10:15.668076Z",
     "iopub.status.idle": "2022-05-23T12:10:16.004778Z",
     "shell.execute_reply": "2022-05-23T12:10:16.004086Z"
    },
    "papermill": {
     "duration": 0.387845,
     "end_time": "2022-05-23T12:10:16.007009",
     "exception": false,
     "start_time": "2022-05-23T12:10:15.619164",
     "status": "completed"
    },
    "tags": []
   },
   "outputs": [
    {
     "data": {
      "text/plain": [
       "<AxesSubplot:xlabel='month'>"
      ]
     },
     "execution_count": 31,
     "metadata": {},
     "output_type": "execute_result"
    },
    {
     "data": {
      "image/png": "[encoded data removed]",
      "text/plain": [
       "<Figure size 432x288 with 1 Axes>"
      ]
     },
     "metadata": {
      "needs_background": "light"
     },
     "output_type": "display_data"
    }
   ],
   "source": [
    "df.groupby('month').size().sort_values().plot(kind = 'bar')"
   ]
  },
  {
   "cell_type": "markdown",
   "id": "c570f112",
   "metadata": {
    "papermill": {
     "duration": 0.051131,
     "end_time": "2022-05-23T12:10:16.107689",
     "exception": false,
     "start_time": "2022-05-23T12:10:16.056558",
     "status": "completed"
    },
    "tags": []
   },
   "source": [
    "## Trend of Ted Talks frequency by months in year [2021]"
   ]
  },
  {
   "cell_type": "code",
   "execution_count": 32,
   "id": "270dd5f9",
   "metadata": {
    "execution": {
     "iopub.execute_input": "2022-05-23T12:10:16.206807Z",
     "iopub.status.busy": "2022-05-23T12:10:16.206480Z",
     "iopub.status.idle": "2022-05-23T12:10:16.413861Z",
     "shell.execute_reply": "2022-05-23T12:10:16.412882Z"
    },
    "papermill": {
     "duration": 0.261451,
     "end_time": "2022-05-23T12:10:16.416501",
     "exception": false,
     "start_time": "2022-05-23T12:10:16.155050",
     "status": "completed"
    },
    "tags": []
   },
   "outputs": [
    {
     "data": {
      "text/plain": [
       "<AxesSubplot:xlabel='month'>"
      ]
     },
     "execution_count": 32,
     "metadata": {},
     "output_type": "execute_result"
    },
    {
     "data": {
      "image/png": "[encoded data removed]",
      "text/plain": [
       "<Figure size 432x288 with 1 Axes>"
      ]
     },
     "metadata": {
      "needs_background": "light"
     },
     "output_type": "display_data"
    }
   ],
   "source": [
    "df[df['year'] == '2021'].groupby('month').size().sort_values().plot(kind = 'bar')"
   ]
  },
  {
   "cell_type": "markdown",
   "id": "93a6ada2",
   "metadata": {
    "papermill": {
     "duration": 0.053117,
     "end_time": "2022-05-23T12:10:16.522508",
     "exception": false,
     "start_time": "2022-05-23T12:10:16.469391",
     "status": "completed"
    },
    "tags": []
   },
   "source": [
    "## Trend of Ted Talks frequency by months in year [2020]"
   ]
  },
  {
   "cell_type": "code",
   "execution_count": 33,
   "id": "b04da1b3",
   "metadata": {
    "execution": {
     "iopub.execute_input": "2022-05-23T12:10:16.630696Z",
     "iopub.status.busy": "2022-05-23T12:10:16.629888Z",
     "iopub.status.idle": "2022-05-23T12:10:16.842048Z",
     "shell.execute_reply": "2022-05-23T12:10:16.840769Z"
    },
    "papermill": {
     "duration": 0.270684,
     "end_time": "2022-05-23T12:10:16.844500",
     "exception": false,
     "start_time": "2022-05-23T12:10:16.573816",
     "status": "completed"
    },
    "tags": []
   },
   "outputs": [
    {
     "data": {
      "text/plain": [
       "<AxesSubplot:xlabel='month'>"
      ]
     },
     "execution_count": 33,
     "metadata": {},
     "output_type": "execute_result"
    },
    {
     "data": {
      "image/png": "[encoded data removed]",
      "text/plain": [
       "<Figure size 432x288 with 1 Axes>"
      ]
     },
     "metadata": {
      "needs_background": "light"
     },
     "output_type": "display_data"
    }
   ],
   "source": [
    "df[df['year'] == '2020'].groupby('month').size().sort_values().plot(kind = 'bar')"
   ]
  },
  {
   "cell_type": "markdown",
   "id": "f5499f8b",
   "metadata": {
    "papermill": {
     "duration": 0.05492,
     "end_time": "2022-05-23T12:10:16.955350",
     "exception": false,
     "start_time": "2022-05-23T12:10:16.900430",
     "status": "completed"
    },
    "tags": []
   },
   "source": [
    "## Trend of Ted Talks frequency by months in year [2019]"
   ]
  },
  {
   "cell_type": "code",
   "execution_count": 34,
   "id": "8f9f057e",
   "metadata": {
    "execution": {
     "iopub.execute_input": "2022-05-23T12:10:17.061640Z",
     "iopub.status.busy": "2022-05-23T12:10:17.061308Z",
     "iopub.status.idle": "2022-05-23T12:10:17.294235Z",
     "shell.execute_reply": "2022-05-23T12:10:17.293559Z"
    },
    "papermill": {
     "duration": 0.291382,
     "end_time": "2022-05-23T12:10:17.296147",
     "exception": false,
     "start_time": "2022-05-23T12:10:17.004765",
     "status": "completed"
    },
    "tags": []
   },
   "outputs": [
    {
     "data": {
      "text/plain": [
       "<AxesSubplot:xlabel='month'>"
      ]
     },
     "execution_count": 34,
     "metadata": {},
     "output_type": "execute_result"
    },
    {
     "data": {
      "image/png": "[encoded data removed]",
      "text/plain": [
       "<Figure size 432x288 with 1 Axes>"
      ]
     },
     "metadata": {
      "needs_background": "light"
     },
     "output_type": "display_data"
    }
   ],
   "source": [
    "df[df['year'] == '2019'].groupby('month').size().sort_values().plot(kind = 'bar')"
   ]
  },
  {
   "cell_type": "markdown",
   "id": "3c3f3e3f",
   "metadata": {
    "papermill": {
     "duration": 0.049875,
     "end_time": "2022-05-23T12:10:17.395803",
     "exception": false,
     "start_time": "2022-05-23T12:10:17.345928",
     "status": "completed"
    },
    "tags": []
   },
   "source": [
    "## Trend of Ted Talks frequency by months in year [2018]"
   ]
  },
  {
   "cell_type": "code",
   "execution_count": 35,
   "id": "63ad8e3d",
   "metadata": {
    "execution": {
     "iopub.execute_input": "2022-05-23T12:10:17.495105Z",
     "iopub.status.busy": "2022-05-23T12:10:17.494682Z",
     "iopub.status.idle": "2022-05-23T12:10:17.726669Z",
     "shell.execute_reply": "2022-05-23T12:10:17.725637Z"
    },
    "papermill": {
     "duration": 0.286072,
     "end_time": "2022-05-23T12:10:17.730470",
     "exception": false,
     "start_time": "2022-05-23T12:10:17.444398",
     "status": "completed"
    },
    "tags": []
   },
   "outputs": [
    {
     "data": {
      "text/plain": [
       "<AxesSubplot:xlabel='month'>"
      ]
     },
     "execution_count": 35,
     "metadata": {},
     "output_type": "execute_result"
    },
    {
     "data": {
      "image/png": "[encoded data removed]",
      "text/plain": [
       "<Figure size 432x288 with 1 Axes>"
      ]
     },
     "metadata": {
      "needs_background": "light"
     },
     "output_type": "display_data"
    }
   ],
   "source": [
    "df[df['year'] == '2018'].groupby('month').size().sort_values().plot(kind = 'bar')"
   ]
  }
 ],
 "metadata": {
  "kernelspec": {
   "display_name": "Python 3",
   "language": "python",
   "name": "python3"
  },
  "language_info": {
   "codemirror_mode": {
    "name": "ipython",
    "version": 3
   },
   "file_extension": ".py",
   "mimetype": "text/x-python",
   "name": "python",
   "nbconvert_exporter": "python",
   "pygments_lexer": "ipython3",
   "version": "3.7.12"
  },
  "papermill": {
   "default_parameters": {},
   "duration": 17.78482,
   "end_time": "2022-05-23T12:10:18.606235",
   "environment_variables": {},
   "exception": null,
   "input_path": "__notebook__.ipynb",
   "output_path": "__notebook__.ipynb",
   "parameters": {},
   "start_time": "2022-05-23T12:10:00.821415",
   "version": "2.3.4"
  }
 },
 "nbformat": 4,
 "nbformat_minor": 5
}
