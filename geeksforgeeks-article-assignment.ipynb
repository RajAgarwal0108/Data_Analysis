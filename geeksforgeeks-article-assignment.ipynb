{
 "cells": [
  {
   "cell_type": "code",
   "execution_count": 1,
   "id": "475380a3",
   "metadata": {
    "_cell_guid": "b1076dfc-b9ad-4769-8c92-a6c4dae69d19",
    "_uuid": "8f2839f25d086af736a60e9eeb907d3b93b6e0e5",
    "execution": {
     "iopub.execute_input": "2022-05-23T13:21:23.134796Z",
     "iopub.status.busy": "2022-05-23T13:21:23.129713Z",
     "iopub.status.idle": "2022-05-23T13:21:23.338875Z",
     "shell.execute_reply": "2022-05-23T13:21:23.338144Z",
     "shell.execute_reply.started": "2022-05-23T12:18:28.185892Z"
    },
    "papermill": {
     "duration": 0.251195,
     "end_time": "2022-05-23T13:21:23.339050",
     "exception": false,
     "start_time": "2022-05-23T13:21:23.087855",
     "status": "completed"
    },
    "tags": []
   },
   "outputs": [],
   "source": [
    "import os\n",
    "import numpy as np\n",
    "import pandas as pd\n",
    "\n",
    "\n",
    "df = pd.read_csv('/kaggle/input/geeksforgeeks-articles/articles.csv')\n",
    "df.dropna(inplace = True)"
   ]
  },
  {
   "cell_type": "code",
   "execution_count": 2,
   "id": "ec140c9d",
   "metadata": {
    "execution": {
     "iopub.execute_input": "2022-05-23T13:21:23.420963Z",
     "iopub.status.busy": "2022-05-23T13:21:23.420168Z",
     "iopub.status.idle": "2022-05-23T13:21:23.436973Z",
     "shell.execute_reply": "2022-05-23T13:21:23.437494Z",
     "shell.execute_reply.started": "2022-05-23T12:19:51.922268Z"
    },
    "papermill": {
     "duration": 0.061657,
     "end_time": "2022-05-23T13:21:23.437685",
     "exception": false,
     "start_time": "2022-05-23T13:21:23.376028",
     "status": "completed"
    },
    "tags": []
   },
   "outputs": [
    {
     "data": {
      "text/html": [
       "<div>\n",
       "<style scoped>\n",
       "    .dataframe tbody tr th:only-of-type {\n",
       "        vertical-align: middle;\n",
       "    }\n",
       "\n",
       "    .dataframe tbody tr th {\n",
       "        vertical-align: top;\n",
       "    }\n",
       "\n",
       "    .dataframe thead th {\n",
       "        text-align: right;\n",
       "    }\n",
       "</style>\n",
       "<table border=\"1\" class=\"dataframe\">\n",
       "  <thead>\n",
       "    <tr style=\"text-align: right;\">\n",
       "      <th></th>\n",
       "      <th>title</th>\n",
       "      <th>author_id</th>\n",
       "      <th>last_updated</th>\n",
       "      <th>link</th>\n",
       "      <th>category</th>\n",
       "    </tr>\n",
       "  </thead>\n",
       "  <tbody>\n",
       "    <tr>\n",
       "      <th>0</th>\n",
       "      <td>5 Best Practices For Writing SQL Joins</td>\n",
       "      <td>priyankab14</td>\n",
       "      <td>21 Feb, 2022</td>\n",
       "      <td>https://www.geeksforgeeks.org/5-best-practices...</td>\n",
       "      <td>easy</td>\n",
       "    </tr>\n",
       "    <tr>\n",
       "      <th>1</th>\n",
       "      <td>Foundation CSS Dropdown Menu</td>\n",
       "      <td>ishankhandelwals</td>\n",
       "      <td>20 Feb, 2022</td>\n",
       "      <td>https://www.geeksforgeeks.org/foundation-css-d...</td>\n",
       "      <td>easy</td>\n",
       "    </tr>\n",
       "    <tr>\n",
       "      <th>2</th>\n",
       "      <td>Top 20 Excel Shortcuts That You Need To Know</td>\n",
       "      <td>priyankab14</td>\n",
       "      <td>17 Feb, 2022</td>\n",
       "      <td>https://www.geeksforgeeks.org/top-20-excel-sho...</td>\n",
       "      <td>easy</td>\n",
       "    </tr>\n",
       "    <tr>\n",
       "      <th>3</th>\n",
       "      <td>Servlet – Fetching Result</td>\n",
       "      <td>nishatiwari1719</td>\n",
       "      <td>17 Feb, 2022</td>\n",
       "      <td>https://www.geeksforgeeks.org/servlet-fetching...</td>\n",
       "      <td>easy</td>\n",
       "    </tr>\n",
       "    <tr>\n",
       "      <th>4</th>\n",
       "      <td>Suffix Sum Array</td>\n",
       "      <td>rohit768</td>\n",
       "      <td>21 Feb, 2022</td>\n",
       "      <td>https://www.geeksforgeeks.org/suffix-sum-array/</td>\n",
       "      <td>easy</td>\n",
       "    </tr>\n",
       "    <tr>\n",
       "      <th>...</th>\n",
       "      <td>...</td>\n",
       "      <td>...</td>\n",
       "      <td>...</td>\n",
       "      <td>...</td>\n",
       "      <td>...</td>\n",
       "    </tr>\n",
       "    <tr>\n",
       "      <th>34569</th>\n",
       "      <td>Data Structures | Queue | Question 11</td>\n",
       "      <td>GeeksforGeeks</td>\n",
       "      <td>28 Jun, 2021</td>\n",
       "      <td>https://www.geeksforgeeks.org/data-structures-...</td>\n",
       "      <td>expert</td>\n",
       "    </tr>\n",
       "    <tr>\n",
       "      <th>34570</th>\n",
       "      <td>Data Structures | Binary Trees | Question 1</td>\n",
       "      <td>GeeksforGeeks</td>\n",
       "      <td>28 Jun, 2021</td>\n",
       "      <td>https://www.geeksforgeeks.org/data-structures-...</td>\n",
       "      <td>expert</td>\n",
       "    </tr>\n",
       "    <tr>\n",
       "      <th>34571</th>\n",
       "      <td>Amazon Interview | Set 9</td>\n",
       "      <td>GeeksforGeeks</td>\n",
       "      <td>28 Apr, 2017</td>\n",
       "      <td>https://www.geeksforgeeks.org/amazon-interview...</td>\n",
       "      <td>expert</td>\n",
       "    </tr>\n",
       "    <tr>\n",
       "      <th>34572</th>\n",
       "      <td>Python Program for Rat in a Maze | Backtracking-2</td>\n",
       "      <td>GeeksforGeeks</td>\n",
       "      <td>02 Aug, 2021</td>\n",
       "      <td>https://www.geeksforgeeks.org/python-program-f...</td>\n",
       "      <td>expert</td>\n",
       "    </tr>\n",
       "    <tr>\n",
       "      <th>34573</th>\n",
       "      <td>Data Structures and Algorithms | Set 21</td>\n",
       "      <td>GeeksforGeeks</td>\n",
       "      <td>27 Mar, 2017</td>\n",
       "      <td>https://www.geeksforgeeks.org/data-structures-...</td>\n",
       "      <td>expert</td>\n",
       "    </tr>\n",
       "  </tbody>\n",
       "</table>\n",
       "<p>34551 rows × 5 columns</p>\n",
       "</div>"
      ],
      "text/plain": [
       "                                                   title         author_id  \\\n",
       "0                 5 Best Practices For Writing SQL Joins       priyankab14   \n",
       "1                           Foundation CSS Dropdown Menu  ishankhandelwals   \n",
       "2           Top 20 Excel Shortcuts That You Need To Know       priyankab14   \n",
       "3                              Servlet – Fetching Result   nishatiwari1719   \n",
       "4                                       Suffix Sum Array          rohit768   \n",
       "...                                                  ...               ...   \n",
       "34569              Data Structures | Queue | Question 11     GeeksforGeeks   \n",
       "34570        Data Structures | Binary Trees | Question 1     GeeksforGeeks   \n",
       "34571                           Amazon Interview | Set 9     GeeksforGeeks   \n",
       "34572  Python Program for Rat in a Maze | Backtracking-2     GeeksforGeeks   \n",
       "34573            Data Structures and Algorithms | Set 21     GeeksforGeeks   \n",
       "\n",
       "       last_updated                                               link  \\\n",
       "0      21 Feb, 2022  https://www.geeksforgeeks.org/5-best-practices...   \n",
       "1      20 Feb, 2022  https://www.geeksforgeeks.org/foundation-css-d...   \n",
       "2      17 Feb, 2022  https://www.geeksforgeeks.org/top-20-excel-sho...   \n",
       "3      17 Feb, 2022  https://www.geeksforgeeks.org/servlet-fetching...   \n",
       "4      21 Feb, 2022    https://www.geeksforgeeks.org/suffix-sum-array/   \n",
       "...             ...                                                ...   \n",
       "34569  28 Jun, 2021  https://www.geeksforgeeks.org/data-structures-...   \n",
       "34570  28 Jun, 2021  https://www.geeksforgeeks.org/data-structures-...   \n",
       "34571  28 Apr, 2017  https://www.geeksforgeeks.org/amazon-interview...   \n",
       "34572  02 Aug, 2021  https://www.geeksforgeeks.org/python-program-f...   \n",
       "34573  27 Mar, 2017  https://www.geeksforgeeks.org/data-structures-...   \n",
       "\n",
       "      category  \n",
       "0         easy  \n",
       "1         easy  \n",
       "2         easy  \n",
       "3         easy  \n",
       "4         easy  \n",
       "...        ...  \n",
       "34569   expert  \n",
       "34570   expert  \n",
       "34571   expert  \n",
       "34572   expert  \n",
       "34573   expert  \n",
       "\n",
       "[34551 rows x 5 columns]"
      ]
     },
     "execution_count": 2,
     "metadata": {},
     "output_type": "execute_result"
    }
   ],
   "source": [
    "df"
   ]
  },
  {
   "cell_type": "code",
   "execution_count": 3,
   "id": "f9aea202",
   "metadata": {
    "execution": {
     "iopub.execute_input": "2022-05-23T13:21:23.536445Z",
     "iopub.status.busy": "2022-05-23T13:21:23.535791Z",
     "iopub.status.idle": "2022-05-23T13:21:23.541341Z",
     "shell.execute_reply": "2022-05-23T13:21:23.541844Z",
     "shell.execute_reply.started": "2022-05-23T12:37:39.276367Z"
    },
    "papermill": {
     "duration": 0.065945,
     "end_time": "2022-05-23T13:21:23.542009",
     "exception": false,
     "start_time": "2022-05-23T13:21:23.476064",
     "status": "completed"
    },
    "tags": []
   },
   "outputs": [
    {
     "data": {
      "text/plain": [
       "title           0\n",
       "author_id       0\n",
       "last_updated    0\n",
       "link            0\n",
       "category        0\n",
       "dtype: int64"
      ]
     },
     "execution_count": 3,
     "metadata": {},
     "output_type": "execute_result"
    }
   ],
   "source": [
    "df.isnull().sum()"
   ]
  },
  {
   "cell_type": "markdown",
   "id": "443c8b6c",
   "metadata": {
    "papermill": {
     "duration": 0.038109,
     "end_time": "2022-05-23T13:21:23.618272",
     "exception": false,
     "start_time": "2022-05-23T13:21:23.580163",
     "status": "completed"
    },
    "tags": []
   },
   "source": [
    "## 1) How many authors do we have in the dataset?"
   ]
  },
  {
   "cell_type": "code",
   "execution_count": 4,
   "id": "fbe86b01",
   "metadata": {
    "execution": {
     "iopub.execute_input": "2022-05-23T13:21:23.700066Z",
     "iopub.status.busy": "2022-05-23T13:21:23.699154Z",
     "iopub.status.idle": "2022-05-23T13:21:23.722919Z",
     "shell.execute_reply": "2022-05-23T13:21:23.722411Z",
     "shell.execute_reply.started": "2022-05-23T12:19:40.025683Z"
    },
    "papermill": {
     "duration": 0.064482,
     "end_time": "2022-05-23T13:21:23.723057",
     "exception": false,
     "start_time": "2022-05-23T13:21:23.658575",
     "status": "completed"
    },
    "tags": []
   },
   "outputs": [
    {
     "data": {
      "text/plain": [
       "count             34551\n",
       "unique             5589\n",
       "top       GeeksforGeeks\n",
       "freq              11957\n",
       "Name: author_id, dtype: object"
      ]
     },
     "execution_count": 4,
     "metadata": {},
     "output_type": "execute_result"
    }
   ],
   "source": [
    "df['author_id'].describe()"
   ]
  },
  {
   "cell_type": "markdown",
   "id": "a2d83643",
   "metadata": {
    "papermill": {
     "duration": 0.037568,
     "end_time": "2022-05-23T13:21:23.799433",
     "exception": false,
     "start_time": "2022-05-23T13:21:23.761865",
     "status": "completed"
    },
    "tags": []
   },
   "source": [
    "## unique             5589\n"
   ]
  },
  {
   "cell_type": "markdown",
   "id": "2d306112",
   "metadata": {
    "papermill": {
     "duration": 0.039729,
     "end_time": "2022-05-23T13:21:23.877384",
     "exception": false,
     "start_time": "2022-05-23T13:21:23.837655",
     "status": "completed"
    },
    "tags": []
   },
   "source": [
    "## 2) How many easy articles are publised on GeeksforGeeks?"
   ]
  },
  {
   "cell_type": "code",
   "execution_count": 5,
   "id": "e7119040",
   "metadata": {
    "execution": {
     "iopub.execute_input": "2022-05-23T13:21:23.970505Z",
     "iopub.status.busy": "2022-05-23T13:21:23.969350Z",
     "iopub.status.idle": "2022-05-23T13:21:23.975786Z",
     "shell.execute_reply": "2022-05-23T13:21:23.975278Z",
     "shell.execute_reply.started": "2022-05-23T12:21:43.483664Z"
    },
    "papermill": {
     "duration": 0.05796,
     "end_time": "2022-05-23T13:21:23.975938",
     "exception": false,
     "start_time": "2022-05-23T13:21:23.917978",
     "status": "completed"
    },
    "tags": []
   },
   "outputs": [
    {
     "data": {
      "text/plain": [
       "9654"
      ]
     },
     "execution_count": 5,
     "metadata": {},
     "output_type": "execute_result"
    }
   ],
   "source": [
    "len(df[df['category'] == 'easy'])"
   ]
  },
  {
   "cell_type": "markdown",
   "id": "98f0e0df",
   "metadata": {
    "papermill": {
     "duration": 0.040119,
     "end_time": "2022-05-23T13:21:24.055150",
     "exception": false,
     "start_time": "2022-05-23T13:21:24.015031",
     "status": "completed"
    },
    "tags": []
   },
   "source": [
    "## 9654\n"
   ]
  },
  {
   "cell_type": "markdown",
   "id": "8924bb1e",
   "metadata": {
    "papermill": {
     "duration": 0.038243,
     "end_time": "2022-05-23T13:21:24.132082",
     "exception": false,
     "start_time": "2022-05-23T13:21:24.093839",
     "status": "completed"
    },
    "tags": []
   },
   "source": [
    "## 3) Which category is having most number of articles?"
   ]
  },
  {
   "cell_type": "code",
   "execution_count": 6,
   "id": "1c0f67c5",
   "metadata": {
    "execution": {
     "iopub.execute_input": "2022-05-23T13:21:24.214923Z",
     "iopub.status.busy": "2022-05-23T13:21:24.213877Z",
     "iopub.status.idle": "2022-05-23T13:21:24.228053Z",
     "shell.execute_reply": "2022-05-23T13:21:24.228601Z",
     "shell.execute_reply.started": "2022-05-23T12:23:39.131166Z"
    },
    "papermill": {
     "duration": 0.057861,
     "end_time": "2022-05-23T13:21:24.228806",
     "exception": false,
     "start_time": "2022-05-23T13:21:24.170945",
     "status": "completed"
    },
    "tags": []
   },
   "outputs": [
    {
     "data": {
      "text/plain": [
       "category\n",
       "medium    10431\n",
       "easy       9654\n",
       "basic      8140\n",
       "hard       4232\n",
       "expert     2094\n",
       "dtype: int64"
      ]
     },
     "execution_count": 6,
     "metadata": {},
     "output_type": "execute_result"
    }
   ],
   "source": [
    "df.groupby('category').size().sort_values(ascending = False)"
   ]
  },
  {
   "cell_type": "markdown",
   "id": "5630eff3",
   "metadata": {
    "papermill": {
     "duration": 0.039074,
     "end_time": "2022-05-23T13:21:24.306993",
     "exception": false,
     "start_time": "2022-05-23T13:21:24.267919",
     "status": "completed"
    },
    "tags": []
   },
   "source": [
    "## medium    10431\n"
   ]
  },
  {
   "cell_type": "markdown",
   "id": "3129face",
   "metadata": {
    "papermill": {
     "duration": 0.038651,
     "end_time": "2022-05-23T13:21:24.385063",
     "exception": false,
     "start_time": "2022-05-23T13:21:24.346412",
     "status": "completed"
    },
    "tags": []
   },
   "source": [
    "## 4) What percent of articles are in expert category out of total number of articles?"
   ]
  },
  {
   "cell_type": "code",
   "execution_count": 7,
   "id": "24d66110",
   "metadata": {
    "execution": {
     "iopub.execute_input": "2022-05-23T13:21:24.466368Z",
     "iopub.status.busy": "2022-05-23T13:21:24.465664Z",
     "iopub.status.idle": "2022-05-23T13:21:24.478569Z",
     "shell.execute_reply": "2022-05-23T13:21:24.479091Z",
     "shell.execute_reply.started": "2022-05-23T12:25:51.815749Z"
    },
    "papermill": {
     "duration": 0.055346,
     "end_time": "2022-05-23T13:21:24.479310",
     "exception": false,
     "start_time": "2022-05-23T13:21:24.423964",
     "status": "completed"
    },
    "tags": []
   },
   "outputs": [
    {
     "data": {
      "text/plain": [
       "6"
      ]
     },
     "execution_count": 7,
     "metadata": {},
     "output_type": "execute_result"
    }
   ],
   "source": [
    "round((len(df[df['category'] == 'expert'])/len(df))*100)"
   ]
  },
  {
   "cell_type": "markdown",
   "id": "a989e0bc",
   "metadata": {
    "papermill": {
     "duration": 0.039164,
     "end_time": "2022-05-23T13:21:24.561208",
     "exception": false,
     "start_time": "2022-05-23T13:21:24.522044",
     "status": "completed"
    },
    "tags": []
   },
   "source": [
    "## 6%"
   ]
  },
  {
   "cell_type": "markdown",
   "id": "e22cac1e",
   "metadata": {
    "papermill": {
     "duration": 0.039254,
     "end_time": "2022-05-23T13:21:24.639867",
     "exception": false,
     "start_time": "2022-05-23T13:21:24.600613",
     "status": "completed"
    },
    "tags": []
   },
   "source": [
    "## 5) Who has written most number of articles after GeeksforGeeks?"
   ]
  },
  {
   "cell_type": "code",
   "execution_count": 8,
   "id": "28cafc88",
   "metadata": {
    "execution": {
     "iopub.execute_input": "2022-05-23T13:21:24.730221Z",
     "iopub.status.busy": "2022-05-23T13:21:24.729497Z",
     "iopub.status.idle": "2022-05-23T13:21:24.749674Z",
     "shell.execute_reply": "2022-05-23T13:21:24.750206Z",
     "shell.execute_reply.started": "2022-05-23T12:28:20.476234Z"
    },
    "papermill": {
     "duration": 0.0676,
     "end_time": "2022-05-23T13:21:24.750399",
     "exception": false,
     "start_time": "2022-05-23T13:21:24.682799",
     "status": "completed"
    },
    "scrolled": true,
    "tags": []
   },
   "outputs": [
    {
     "data": {
      "text/plain": [
       "author_id\n",
       "GeeksforGeeks    11957\n",
       "ManasChhabra2      317\n",
       "Striver            265\n",
       "manjeet_04         246\n",
       "Chinmoy Lenka      192\n",
       "dtype: int64"
      ]
     },
     "execution_count": 8,
     "metadata": {},
     "output_type": "execute_result"
    }
   ],
   "source": [
    "df.groupby('author_id').size().sort_values(ascending = False).head()"
   ]
  },
  {
   "cell_type": "markdown",
   "id": "8d703db7",
   "metadata": {
    "papermill": {
     "duration": 0.039677,
     "end_time": "2022-05-23T13:21:24.830082",
     "exception": false,
     "start_time": "2022-05-23T13:21:24.790405",
     "status": "completed"
    },
    "tags": []
   },
   "source": [
    "## ManasChhabra2      317\n"
   ]
  },
  {
   "cell_type": "markdown",
   "id": "cbf2fc92",
   "metadata": {
    "papermill": {
     "duration": 0.040246,
     "end_time": "2022-05-23T13:21:24.911496",
     "exception": false,
     "start_time": "2022-05-23T13:21:24.871250",
     "status": "completed"
    },
    "tags": []
   },
   "source": [
    "## 6) Who has written most number of articles in Expert Category after GeeksforGeeks?"
   ]
  },
  {
   "cell_type": "code",
   "execution_count": 9,
   "id": "51a0fa6b",
   "metadata": {
    "execution": {
     "iopub.execute_input": "2022-05-23T13:21:24.997808Z",
     "iopub.status.busy": "2022-05-23T13:21:24.997118Z",
     "iopub.status.idle": "2022-05-23T13:21:25.012945Z",
     "shell.execute_reply": "2022-05-23T13:21:25.013553Z",
     "shell.execute_reply.started": "2022-05-23T12:29:18.904519Z"
    },
    "papermill": {
     "duration": 0.060269,
     "end_time": "2022-05-23T13:21:25.013727",
     "exception": false,
     "start_time": "2022-05-23T13:21:24.953458",
     "status": "completed"
    },
    "scrolled": true,
    "tags": []
   },
   "outputs": [
    {
     "data": {
      "text/plain": [
       "author_id\n",
       "GeeksforGeeks      285\n",
       "mishrapriyank17     36\n",
       "pintusaini          34\n",
       "harkiran78          24\n",
       "zack_aayush         22\n",
       "dtype: int64"
      ]
     },
     "execution_count": 9,
     "metadata": {},
     "output_type": "execute_result"
    }
   ],
   "source": [
    "df[df['category'] == 'expert'].groupby('author_id').size().sort_values(ascending = False).head()"
   ]
  },
  {
   "cell_type": "markdown",
   "id": "f0f0cb84",
   "metadata": {
    "papermill": {
     "duration": 0.039421,
     "end_time": "2022-05-23T13:21:25.093199",
     "exception": false,
     "start_time": "2022-05-23T13:21:25.053778",
     "status": "completed"
    },
    "tags": []
   },
   "source": [
    "## mishrapriyank17     36\n"
   ]
  },
  {
   "cell_type": "code",
   "execution_count": 10,
   "id": "a3912d01",
   "metadata": {
    "execution": {
     "iopub.execute_input": "2022-05-23T13:21:25.176353Z",
     "iopub.status.busy": "2022-05-23T13:21:25.175684Z",
     "iopub.status.idle": "2022-05-23T13:21:25.187901Z",
     "shell.execute_reply": "2022-05-23T13:21:25.188432Z",
     "shell.execute_reply.started": "2022-05-23T12:36:55.467496Z"
    },
    "papermill": {
     "duration": 0.054976,
     "end_time": "2022-05-23T13:21:25.188594",
     "exception": false,
     "start_time": "2022-05-23T13:21:25.133618",
     "status": "completed"
    },
    "tags": []
   },
   "outputs": [
    {
     "data": {
      "text/html": [
       "<div>\n",
       "<style scoped>\n",
       "    .dataframe tbody tr th:only-of-type {\n",
       "        vertical-align: middle;\n",
       "    }\n",
       "\n",
       "    .dataframe tbody tr th {\n",
       "        vertical-align: top;\n",
       "    }\n",
       "\n",
       "    .dataframe thead th {\n",
       "        text-align: right;\n",
       "    }\n",
       "</style>\n",
       "<table border=\"1\" class=\"dataframe\">\n",
       "  <thead>\n",
       "    <tr style=\"text-align: right;\">\n",
       "      <th></th>\n",
       "      <th>title</th>\n",
       "      <th>author_id</th>\n",
       "      <th>last_updated</th>\n",
       "      <th>link</th>\n",
       "      <th>category</th>\n",
       "    </tr>\n",
       "  </thead>\n",
       "  <tbody>\n",
       "    <tr>\n",
       "      <th>0</th>\n",
       "      <td>5 Best Practices For Writing SQL Joins</td>\n",
       "      <td>priyankab14</td>\n",
       "      <td>21 Feb, 2022</td>\n",
       "      <td>https://www.geeksforgeeks.org/5-best-practices...</td>\n",
       "      <td>easy</td>\n",
       "    </tr>\n",
       "    <tr>\n",
       "      <th>1</th>\n",
       "      <td>Foundation CSS Dropdown Menu</td>\n",
       "      <td>ishankhandelwals</td>\n",
       "      <td>20 Feb, 2022</td>\n",
       "      <td>https://www.geeksforgeeks.org/foundation-css-d...</td>\n",
       "      <td>easy</td>\n",
       "    </tr>\n",
       "    <tr>\n",
       "      <th>2</th>\n",
       "      <td>Top 20 Excel Shortcuts That You Need To Know</td>\n",
       "      <td>priyankab14</td>\n",
       "      <td>17 Feb, 2022</td>\n",
       "      <td>https://www.geeksforgeeks.org/top-20-excel-sho...</td>\n",
       "      <td>easy</td>\n",
       "    </tr>\n",
       "    <tr>\n",
       "      <th>3</th>\n",
       "      <td>Servlet – Fetching Result</td>\n",
       "      <td>nishatiwari1719</td>\n",
       "      <td>17 Feb, 2022</td>\n",
       "      <td>https://www.geeksforgeeks.org/servlet-fetching...</td>\n",
       "      <td>easy</td>\n",
       "    </tr>\n",
       "    <tr>\n",
       "      <th>4</th>\n",
       "      <td>Suffix Sum Array</td>\n",
       "      <td>rohit768</td>\n",
       "      <td>21 Feb, 2022</td>\n",
       "      <td>https://www.geeksforgeeks.org/suffix-sum-array/</td>\n",
       "      <td>easy</td>\n",
       "    </tr>\n",
       "    <tr>\n",
       "      <th>...</th>\n",
       "      <td>...</td>\n",
       "      <td>...</td>\n",
       "      <td>...</td>\n",
       "      <td>...</td>\n",
       "      <td>...</td>\n",
       "    </tr>\n",
       "    <tr>\n",
       "      <th>34569</th>\n",
       "      <td>Data Structures | Queue | Question 11</td>\n",
       "      <td>GeeksforGeeks</td>\n",
       "      <td>28 Jun, 2021</td>\n",
       "      <td>https://www.geeksforgeeks.org/data-structures-...</td>\n",
       "      <td>expert</td>\n",
       "    </tr>\n",
       "    <tr>\n",
       "      <th>34570</th>\n",
       "      <td>Data Structures | Binary Trees | Question 1</td>\n",
       "      <td>GeeksforGeeks</td>\n",
       "      <td>28 Jun, 2021</td>\n",
       "      <td>https://www.geeksforgeeks.org/data-structures-...</td>\n",
       "      <td>expert</td>\n",
       "    </tr>\n",
       "    <tr>\n",
       "      <th>34571</th>\n",
       "      <td>Amazon Interview | Set 9</td>\n",
       "      <td>GeeksforGeeks</td>\n",
       "      <td>28 Apr, 2017</td>\n",
       "      <td>https://www.geeksforgeeks.org/amazon-interview...</td>\n",
       "      <td>expert</td>\n",
       "    </tr>\n",
       "    <tr>\n",
       "      <th>34572</th>\n",
       "      <td>Python Program for Rat in a Maze | Backtracking-2</td>\n",
       "      <td>GeeksforGeeks</td>\n",
       "      <td>02 Aug, 2021</td>\n",
       "      <td>https://www.geeksforgeeks.org/python-program-f...</td>\n",
       "      <td>expert</td>\n",
       "    </tr>\n",
       "    <tr>\n",
       "      <th>34573</th>\n",
       "      <td>Data Structures and Algorithms | Set 21</td>\n",
       "      <td>GeeksforGeeks</td>\n",
       "      <td>27 Mar, 2017</td>\n",
       "      <td>https://www.geeksforgeeks.org/data-structures-...</td>\n",
       "      <td>expert</td>\n",
       "    </tr>\n",
       "  </tbody>\n",
       "</table>\n",
       "<p>34551 rows × 5 columns</p>\n",
       "</div>"
      ],
      "text/plain": [
       "                                                   title         author_id  \\\n",
       "0                 5 Best Practices For Writing SQL Joins       priyankab14   \n",
       "1                           Foundation CSS Dropdown Menu  ishankhandelwals   \n",
       "2           Top 20 Excel Shortcuts That You Need To Know       priyankab14   \n",
       "3                              Servlet – Fetching Result   nishatiwari1719   \n",
       "4                                       Suffix Sum Array          rohit768   \n",
       "...                                                  ...               ...   \n",
       "34569              Data Structures | Queue | Question 11     GeeksforGeeks   \n",
       "34570        Data Structures | Binary Trees | Question 1     GeeksforGeeks   \n",
       "34571                           Amazon Interview | Set 9     GeeksforGeeks   \n",
       "34572  Python Program for Rat in a Maze | Backtracking-2     GeeksforGeeks   \n",
       "34573            Data Structures and Algorithms | Set 21     GeeksforGeeks   \n",
       "\n",
       "       last_updated                                               link  \\\n",
       "0      21 Feb, 2022  https://www.geeksforgeeks.org/5-best-practices...   \n",
       "1      20 Feb, 2022  https://www.geeksforgeeks.org/foundation-css-d...   \n",
       "2      17 Feb, 2022  https://www.geeksforgeeks.org/top-20-excel-sho...   \n",
       "3      17 Feb, 2022  https://www.geeksforgeeks.org/servlet-fetching...   \n",
       "4      21 Feb, 2022    https://www.geeksforgeeks.org/suffix-sum-array/   \n",
       "...             ...                                                ...   \n",
       "34569  28 Jun, 2021  https://www.geeksforgeeks.org/data-structures-...   \n",
       "34570  28 Jun, 2021  https://www.geeksforgeeks.org/data-structures-...   \n",
       "34571  28 Apr, 2017  https://www.geeksforgeeks.org/amazon-interview...   \n",
       "34572  02 Aug, 2021  https://www.geeksforgeeks.org/python-program-f...   \n",
       "34573  27 Mar, 2017  https://www.geeksforgeeks.org/data-structures-...   \n",
       "\n",
       "      category  \n",
       "0         easy  \n",
       "1         easy  \n",
       "2         easy  \n",
       "3         easy  \n",
       "4         easy  \n",
       "...        ...  \n",
       "34569   expert  \n",
       "34570   expert  \n",
       "34571   expert  \n",
       "34572   expert  \n",
       "34573   expert  \n",
       "\n",
       "[34551 rows x 5 columns]"
      ]
     },
     "execution_count": 10,
     "metadata": {},
     "output_type": "execute_result"
    }
   ],
   "source": [
    "df"
   ]
  },
  {
   "cell_type": "code",
   "execution_count": 11,
   "id": "f0cf20b1",
   "metadata": {
    "execution": {
     "iopub.execute_input": "2022-05-23T13:21:25.272276Z",
     "iopub.status.busy": "2022-05-23T13:21:25.271680Z",
     "iopub.status.idle": "2022-05-23T13:21:25.278571Z",
     "shell.execute_reply": "2022-05-23T13:21:25.277973Z",
     "shell.execute_reply.started": "2022-05-23T13:02:37.586652Z"
    },
    "papermill": {
     "duration": 0.049687,
     "end_time": "2022-05-23T13:21:25.278699",
     "exception": false,
     "start_time": "2022-05-23T13:21:25.229012",
     "status": "completed"
    },
    "tags": []
   },
   "outputs": [
    {
     "data": {
      "text/plain": [
       "'21 Feb, 2022'"
      ]
     },
     "execution_count": 11,
     "metadata": {},
     "output_type": "execute_result"
    }
   ],
   "source": [
    "df['last_updated'][0]"
   ]
  },
  {
   "cell_type": "code",
   "execution_count": 12,
   "id": "802b4df0",
   "metadata": {
    "execution": {
     "iopub.execute_input": "2022-05-23T13:21:25.372436Z",
     "iopub.status.busy": "2022-05-23T13:21:25.371788Z",
     "iopub.status.idle": "2022-05-23T13:21:26.199805Z",
     "shell.execute_reply": "2022-05-23T13:21:26.199264Z",
     "shell.execute_reply.started": "2022-05-23T13:06:07.352680Z"
    },
    "papermill": {
     "duration": 0.880274,
     "end_time": "2022-05-23T13:21:26.199954",
     "exception": false,
     "start_time": "2022-05-23T13:21:25.319680",
     "status": "completed"
    },
    "tags": []
   },
   "outputs": [],
   "source": [
    "for date in df['last_updated']:\n",
    "    if len(date)<12:\n",
    "        df.drop(df[df['last_updated'] == date].index, inplace=True)\n"
   ]
  },
  {
   "cell_type": "code",
   "execution_count": 13,
   "id": "cf745783",
   "metadata": {
    "execution": {
     "iopub.execute_input": "2022-05-23T13:21:26.295460Z",
     "iopub.status.busy": "2022-05-23T13:21:26.294801Z",
     "iopub.status.idle": "2022-05-23T13:21:26.363154Z",
     "shell.execute_reply": "2022-05-23T13:21:26.363640Z",
     "shell.execute_reply.started": "2022-05-23T13:12:51.460650Z"
    },
    "papermill": {
     "duration": 0.122957,
     "end_time": "2022-05-23T13:21:26.363818",
     "exception": false,
     "start_time": "2022-05-23T13:21:26.240861",
     "status": "completed"
    },
    "tags": []
   },
   "outputs": [],
   "source": [
    "day = []\n",
    "month = []\n",
    "year = []\n",
    "data = df.values\n",
    "for date in data:\n",
    "    day.append(date[2].split(\" \")[0])\n",
    "    month.append(date[2].split(\" \")[1][:-1])\n",
    "    year.append(date[2].split(\" \")[2])"
   ]
  },
  {
   "cell_type": "code",
   "execution_count": 14,
   "id": "199c10cf",
   "metadata": {
    "execution": {
     "iopub.execute_input": "2022-05-23T13:21:26.448854Z",
     "iopub.status.busy": "2022-05-23T13:21:26.448250Z",
     "iopub.status.idle": "2022-05-23T13:21:26.464082Z",
     "shell.execute_reply": "2022-05-23T13:21:26.463573Z",
     "shell.execute_reply.started": "2022-05-23T13:12:53.498096Z"
    },
    "papermill": {
     "duration": 0.059458,
     "end_time": "2022-05-23T13:21:26.464244",
     "exception": false,
     "start_time": "2022-05-23T13:21:26.404786",
     "status": "completed"
    },
    "tags": []
   },
   "outputs": [],
   "source": [
    "df['day'] = day\n",
    "df['month'] = month\n",
    "df['year'] = year"
   ]
  },
  {
   "cell_type": "code",
   "execution_count": 15,
   "id": "34ac304a",
   "metadata": {
    "execution": {
     "iopub.execute_input": "2022-05-23T13:21:26.560750Z",
     "iopub.status.busy": "2022-05-23T13:21:26.560091Z",
     "iopub.status.idle": "2022-05-23T13:21:26.564320Z",
     "shell.execute_reply": "2022-05-23T13:21:26.563763Z",
     "shell.execute_reply.started": "2022-05-23T13:12:55.267465Z"
    },
    "papermill": {
     "duration": 0.0577,
     "end_time": "2022-05-23T13:21:26.564478",
     "exception": false,
     "start_time": "2022-05-23T13:21:26.506778",
     "status": "completed"
    },
    "tags": []
   },
   "outputs": [
    {
     "data": {
      "text/plain": [
       "0        Feb\n",
       "1        Feb\n",
       "2        Feb\n",
       "3        Feb\n",
       "4        Feb\n",
       "        ... \n",
       "34569    Jun\n",
       "34570    Jun\n",
       "34571    Apr\n",
       "34572    Aug\n",
       "34573    Mar\n",
       "Name: month, Length: 34455, dtype: object"
      ]
     },
     "execution_count": 15,
     "metadata": {},
     "output_type": "execute_result"
    }
   ],
   "source": [
    "df['month']"
   ]
  },
  {
   "cell_type": "markdown",
   "id": "8e703ad7",
   "metadata": {
    "papermill": {
     "duration": 0.041734,
     "end_time": "2022-05-23T13:21:26.648446",
     "exception": false,
     "start_time": "2022-05-23T13:21:26.606712",
     "status": "completed"
    },
    "tags": []
   },
   "source": [
    "## 7) Which day of the month has most number of articles published?"
   ]
  },
  {
   "cell_type": "code",
   "execution_count": 16,
   "id": "09a8ff7f",
   "metadata": {
    "execution": {
     "iopub.execute_input": "2022-05-23T13:21:26.738872Z",
     "iopub.status.busy": "2022-05-23T13:21:26.736282Z",
     "iopub.status.idle": "2022-05-23T13:21:26.750692Z",
     "shell.execute_reply": "2022-05-23T13:21:26.751214Z",
     "shell.execute_reply.started": "2022-05-23T13:08:44.077997Z"
    },
    "papermill": {
     "duration": 0.059559,
     "end_time": "2022-05-23T13:21:26.751384",
     "exception": false,
     "start_time": "2022-05-23T13:21:26.691825",
     "status": "completed"
    },
    "tags": []
   },
   "outputs": [
    {
     "data": {
      "text/html": [
       "<div>\n",
       "<style scoped>\n",
       "    .dataframe tbody tr th:only-of-type {\n",
       "        vertical-align: middle;\n",
       "    }\n",
       "\n",
       "    .dataframe tbody tr th {\n",
       "        vertical-align: top;\n",
       "    }\n",
       "\n",
       "    .dataframe thead th {\n",
       "        text-align: right;\n",
       "    }\n",
       "</style>\n",
       "<table border=\"1\" class=\"dataframe\">\n",
       "  <thead>\n",
       "    <tr style=\"text-align: right;\">\n",
       "      <th></th>\n",
       "      <th>title</th>\n",
       "      <th>author_id</th>\n",
       "      <th>last_updated</th>\n",
       "      <th>link</th>\n",
       "      <th>category</th>\n",
       "      <th>day</th>\n",
       "      <th>month</th>\n",
       "      <th>year</th>\n",
       "    </tr>\n",
       "  </thead>\n",
       "  <tbody>\n",
       "    <tr>\n",
       "      <th>0</th>\n",
       "      <td>5 Best Practices For Writing SQL Joins</td>\n",
       "      <td>priyankab14</td>\n",
       "      <td>21 Feb, 2022</td>\n",
       "      <td>https://www.geeksforgeeks.org/5-best-practices...</td>\n",
       "      <td>easy</td>\n",
       "      <td>21</td>\n",
       "      <td>Feb</td>\n",
       "      <td>2022</td>\n",
       "    </tr>\n",
       "    <tr>\n",
       "      <th>1</th>\n",
       "      <td>Foundation CSS Dropdown Menu</td>\n",
       "      <td>ishankhandelwals</td>\n",
       "      <td>20 Feb, 2022</td>\n",
       "      <td>https://www.geeksforgeeks.org/foundation-css-d...</td>\n",
       "      <td>easy</td>\n",
       "      <td>20</td>\n",
       "      <td>Feb</td>\n",
       "      <td>2022</td>\n",
       "    </tr>\n",
       "    <tr>\n",
       "      <th>2</th>\n",
       "      <td>Top 20 Excel Shortcuts That You Need To Know</td>\n",
       "      <td>priyankab14</td>\n",
       "      <td>17 Feb, 2022</td>\n",
       "      <td>https://www.geeksforgeeks.org/top-20-excel-sho...</td>\n",
       "      <td>easy</td>\n",
       "      <td>17</td>\n",
       "      <td>Feb</td>\n",
       "      <td>2022</td>\n",
       "    </tr>\n",
       "    <tr>\n",
       "      <th>3</th>\n",
       "      <td>Servlet – Fetching Result</td>\n",
       "      <td>nishatiwari1719</td>\n",
       "      <td>17 Feb, 2022</td>\n",
       "      <td>https://www.geeksforgeeks.org/servlet-fetching...</td>\n",
       "      <td>easy</td>\n",
       "      <td>17</td>\n",
       "      <td>Feb</td>\n",
       "      <td>2022</td>\n",
       "    </tr>\n",
       "    <tr>\n",
       "      <th>4</th>\n",
       "      <td>Suffix Sum Array</td>\n",
       "      <td>rohit768</td>\n",
       "      <td>21 Feb, 2022</td>\n",
       "      <td>https://www.geeksforgeeks.org/suffix-sum-array/</td>\n",
       "      <td>easy</td>\n",
       "      <td>21</td>\n",
       "      <td>Feb</td>\n",
       "      <td>2022</td>\n",
       "    </tr>\n",
       "  </tbody>\n",
       "</table>\n",
       "</div>"
      ],
      "text/plain": [
       "                                          title         author_id  \\\n",
       "0        5 Best Practices For Writing SQL Joins       priyankab14   \n",
       "1                  Foundation CSS Dropdown Menu  ishankhandelwals   \n",
       "2  Top 20 Excel Shortcuts That You Need To Know       priyankab14   \n",
       "3                     Servlet – Fetching Result   nishatiwari1719   \n",
       "4                              Suffix Sum Array          rohit768   \n",
       "\n",
       "   last_updated                                               link category  \\\n",
       "0  21 Feb, 2022  https://www.geeksforgeeks.org/5-best-practices...     easy   \n",
       "1  20 Feb, 2022  https://www.geeksforgeeks.org/foundation-css-d...     easy   \n",
       "2  17 Feb, 2022  https://www.geeksforgeeks.org/top-20-excel-sho...     easy   \n",
       "3  17 Feb, 2022  https://www.geeksforgeeks.org/servlet-fetching...     easy   \n",
       "4  21 Feb, 2022    https://www.geeksforgeeks.org/suffix-sum-array/     easy   \n",
       "\n",
       "  day month  year  \n",
       "0  21   Feb  2022  \n",
       "1  20   Feb  2022  \n",
       "2  17   Feb  2022  \n",
       "3  17   Feb  2022  \n",
       "4  21   Feb  2022  "
      ]
     },
     "execution_count": 16,
     "metadata": {},
     "output_type": "execute_result"
    }
   ],
   "source": [
    "df.head()"
   ]
  },
  {
   "cell_type": "code",
   "execution_count": 17,
   "id": "b6b578a4",
   "metadata": {
    "execution": {
     "iopub.execute_input": "2022-05-23T13:21:26.841589Z",
     "iopub.status.busy": "2022-05-23T13:21:26.840491Z",
     "iopub.status.idle": "2022-05-23T13:21:26.853794Z",
     "shell.execute_reply": "2022-05-23T13:21:26.854250Z",
     "shell.execute_reply.started": "2022-05-23T13:09:46.204856Z"
    },
    "papermill": {
     "duration": 0.060197,
     "end_time": "2022-05-23T13:21:26.854435",
     "exception": false,
     "start_time": "2022-05-23T13:21:26.794238",
     "status": "completed"
    },
    "tags": []
   },
   "outputs": [
    {
     "data": {
      "text/plain": [
       "day\n",
       "28    2433\n",
       "22    1315\n",
       "21    1293\n",
       "07    1186\n",
       "10    1184\n",
       "26    1175\n",
       "17    1175\n",
       "24    1175\n",
       "11    1164\n",
       "30    1149\n",
       "29    1135\n",
       "06    1122\n",
       "19    1108\n",
       "27    1105\n",
       "18    1071\n",
       "09    1070\n",
       "14    1046\n",
       "13    1020\n",
       "23    1020\n",
       "08    1012\n",
       "03    1003\n",
       "12     999\n",
       "16     988\n",
       "01     986\n",
       "20     980\n",
       "25     975\n",
       "05     968\n",
       "02     960\n",
       "04     951\n",
       "15     949\n",
       "31     738\n",
       "dtype: int64"
      ]
     },
     "execution_count": 17,
     "metadata": {},
     "output_type": "execute_result"
    }
   ],
   "source": [
    "df.groupby('day').size().sort_values(ascending = False)"
   ]
  },
  {
   "cell_type": "markdown",
   "id": "0e55ed1e",
   "metadata": {
    "papermill": {
     "duration": 0.043131,
     "end_time": "2022-05-23T13:21:26.939905",
     "exception": false,
     "start_time": "2022-05-23T13:21:26.896774",
     "status": "completed"
    },
    "tags": []
   },
   "source": [
    "## 28 day\n"
   ]
  },
  {
   "cell_type": "markdown",
   "id": "8b12ceec",
   "metadata": {
    "papermill": {
     "duration": 0.042618,
     "end_time": "2022-05-23T13:21:27.026675",
     "exception": false,
     "start_time": "2022-05-23T13:21:26.984057",
     "status": "completed"
    },
    "tags": []
   },
   "source": [
    "## 8) Which day of July has most number of articles published?"
   ]
  },
  {
   "cell_type": "code",
   "execution_count": 18,
   "id": "937cf6ab",
   "metadata": {
    "execution": {
     "iopub.execute_input": "2022-05-23T13:21:27.117860Z",
     "iopub.status.busy": "2022-05-23T13:21:27.116835Z",
     "iopub.status.idle": "2022-05-23T13:21:27.130592Z",
     "shell.execute_reply": "2022-05-23T13:21:27.131147Z",
     "shell.execute_reply.started": "2022-05-23T13:10:17.053583Z"
    },
    "papermill": {
     "duration": 0.060789,
     "end_time": "2022-05-23T13:21:27.131345",
     "exception": false,
     "start_time": "2022-05-23T13:21:27.070556",
     "status": "completed"
    },
    "tags": []
   },
   "outputs": [
    {
     "data": {
      "text/html": [
       "<div>\n",
       "<style scoped>\n",
       "    .dataframe tbody tr th:only-of-type {\n",
       "        vertical-align: middle;\n",
       "    }\n",
       "\n",
       "    .dataframe tbody tr th {\n",
       "        vertical-align: top;\n",
       "    }\n",
       "\n",
       "    .dataframe thead th {\n",
       "        text-align: right;\n",
       "    }\n",
       "</style>\n",
       "<table border=\"1\" class=\"dataframe\">\n",
       "  <thead>\n",
       "    <tr style=\"text-align: right;\">\n",
       "      <th></th>\n",
       "      <th>title</th>\n",
       "      <th>author_id</th>\n",
       "      <th>last_updated</th>\n",
       "      <th>link</th>\n",
       "      <th>category</th>\n",
       "      <th>day</th>\n",
       "      <th>month</th>\n",
       "      <th>year</th>\n",
       "    </tr>\n",
       "  </thead>\n",
       "  <tbody>\n",
       "    <tr>\n",
       "      <th>0</th>\n",
       "      <td>5 Best Practices For Writing SQL Joins</td>\n",
       "      <td>priyankab14</td>\n",
       "      <td>21 Feb, 2022</td>\n",
       "      <td>https://www.geeksforgeeks.org/5-best-practices...</td>\n",
       "      <td>easy</td>\n",
       "      <td>21</td>\n",
       "      <td>Feb</td>\n",
       "      <td>2022</td>\n",
       "    </tr>\n",
       "    <tr>\n",
       "      <th>1</th>\n",
       "      <td>Foundation CSS Dropdown Menu</td>\n",
       "      <td>ishankhandelwals</td>\n",
       "      <td>20 Feb, 2022</td>\n",
       "      <td>https://www.geeksforgeeks.org/foundation-css-d...</td>\n",
       "      <td>easy</td>\n",
       "      <td>20</td>\n",
       "      <td>Feb</td>\n",
       "      <td>2022</td>\n",
       "    </tr>\n",
       "    <tr>\n",
       "      <th>2</th>\n",
       "      <td>Top 20 Excel Shortcuts That You Need To Know</td>\n",
       "      <td>priyankab14</td>\n",
       "      <td>17 Feb, 2022</td>\n",
       "      <td>https://www.geeksforgeeks.org/top-20-excel-sho...</td>\n",
       "      <td>easy</td>\n",
       "      <td>17</td>\n",
       "      <td>Feb</td>\n",
       "      <td>2022</td>\n",
       "    </tr>\n",
       "    <tr>\n",
       "      <th>3</th>\n",
       "      <td>Servlet – Fetching Result</td>\n",
       "      <td>nishatiwari1719</td>\n",
       "      <td>17 Feb, 2022</td>\n",
       "      <td>https://www.geeksforgeeks.org/servlet-fetching...</td>\n",
       "      <td>easy</td>\n",
       "      <td>17</td>\n",
       "      <td>Feb</td>\n",
       "      <td>2022</td>\n",
       "    </tr>\n",
       "    <tr>\n",
       "      <th>4</th>\n",
       "      <td>Suffix Sum Array</td>\n",
       "      <td>rohit768</td>\n",
       "      <td>21 Feb, 2022</td>\n",
       "      <td>https://www.geeksforgeeks.org/suffix-sum-array/</td>\n",
       "      <td>easy</td>\n",
       "      <td>21</td>\n",
       "      <td>Feb</td>\n",
       "      <td>2022</td>\n",
       "    </tr>\n",
       "  </tbody>\n",
       "</table>\n",
       "</div>"
      ],
      "text/plain": [
       "                                          title         author_id  \\\n",
       "0        5 Best Practices For Writing SQL Joins       priyankab14   \n",
       "1                  Foundation CSS Dropdown Menu  ishankhandelwals   \n",
       "2  Top 20 Excel Shortcuts That You Need To Know       priyankab14   \n",
       "3                     Servlet – Fetching Result   nishatiwari1719   \n",
       "4                              Suffix Sum Array          rohit768   \n",
       "\n",
       "   last_updated                                               link category  \\\n",
       "0  21 Feb, 2022  https://www.geeksforgeeks.org/5-best-practices...     easy   \n",
       "1  20 Feb, 2022  https://www.geeksforgeeks.org/foundation-css-d...     easy   \n",
       "2  17 Feb, 2022  https://www.geeksforgeeks.org/top-20-excel-sho...     easy   \n",
       "3  17 Feb, 2022  https://www.geeksforgeeks.org/servlet-fetching...     easy   \n",
       "4  21 Feb, 2022    https://www.geeksforgeeks.org/suffix-sum-array/     easy   \n",
       "\n",
       "  day month  year  \n",
       "0  21   Feb  2022  \n",
       "1  20   Feb  2022  \n",
       "2  17   Feb  2022  \n",
       "3  17   Feb  2022  \n",
       "4  21   Feb  2022  "
      ]
     },
     "execution_count": 18,
     "metadata": {},
     "output_type": "execute_result"
    }
   ],
   "source": [
    "df.head()"
   ]
  },
  {
   "cell_type": "code",
   "execution_count": 19,
   "id": "1852aa0e",
   "metadata": {
    "execution": {
     "iopub.execute_input": "2022-05-23T13:21:27.231203Z",
     "iopub.status.busy": "2022-05-23T13:21:27.229980Z",
     "iopub.status.idle": "2022-05-23T13:21:27.255507Z",
     "shell.execute_reply": "2022-05-23T13:21:27.256017Z",
     "shell.execute_reply.started": "2022-05-23T13:13:30.053085Z"
    },
    "papermill": {
     "duration": 0.081333,
     "end_time": "2022-05-23T13:21:27.256225",
     "exception": false,
     "start_time": "2022-05-23T13:21:27.174892",
     "status": "completed"
    },
    "tags": []
   },
   "outputs": [
    {
     "data": {
      "text/plain": [
       "day\n",
       "07    166\n",
       "06    146\n",
       "16    129\n",
       "30    126\n",
       "02    117\n",
       "09    113\n",
       "26    113\n",
       "23    107\n",
       "01    107\n",
       "19    104\n",
       "22    103\n",
       "15     99\n",
       "28     99\n",
       "29     98\n",
       "08     97\n",
       "10     96\n",
       "12     91\n",
       "05     91\n",
       "13     76\n",
       "20     74\n",
       "21     72\n",
       "31     69\n",
       "17     68\n",
       "04     65\n",
       "27     63\n",
       "03     63\n",
       "11     62\n",
       "18     59\n",
       "14     54\n",
       "25     51\n",
       "24     45\n",
       "dtype: int64"
      ]
     },
     "execution_count": 19,
     "metadata": {},
     "output_type": "execute_result"
    }
   ],
   "source": [
    "df[df['month'] == 'Jul'].groupby('day').size().sort_values(ascending = False)"
   ]
  },
  {
   "cell_type": "markdown",
   "id": "2045481b",
   "metadata": {
    "papermill": {
     "duration": 0.043659,
     "end_time": "2022-05-23T13:21:27.343919",
     "exception": false,
     "start_time": "2022-05-23T13:21:27.300260",
     "status": "completed"
    },
    "tags": []
   },
   "source": [
    "## 07 day of July\n"
   ]
  },
  {
   "cell_type": "markdown",
   "id": "8896cdeb",
   "metadata": {
    "papermill": {
     "duration": 0.044082,
     "end_time": "2022-05-23T13:21:27.431879",
     "exception": false,
     "start_time": "2022-05-23T13:21:27.387797",
     "status": "completed"
    },
    "tags": []
   },
   "source": [
    "## 9) Which month has least number of articles published?"
   ]
  },
  {
   "cell_type": "code",
   "execution_count": 20,
   "id": "e092fe77",
   "metadata": {
    "execution": {
     "iopub.execute_input": "2022-05-23T13:21:27.535206Z",
     "iopub.status.busy": "2022-05-23T13:21:27.534417Z",
     "iopub.status.idle": "2022-05-23T13:21:27.537408Z",
     "shell.execute_reply": "2022-05-23T13:21:27.537897Z",
     "shell.execute_reply.started": "2022-05-23T13:14:27.725471Z"
    },
    "papermill": {
     "duration": 0.061702,
     "end_time": "2022-05-23T13:21:27.538098",
     "exception": false,
     "start_time": "2022-05-23T13:21:27.476396",
     "status": "completed"
    },
    "scrolled": true,
    "tags": []
   },
   "outputs": [
    {
     "data": {
      "text/html": [
       "<div>\n",
       "<style scoped>\n",
       "    .dataframe tbody tr th:only-of-type {\n",
       "        vertical-align: middle;\n",
       "    }\n",
       "\n",
       "    .dataframe tbody tr th {\n",
       "        vertical-align: top;\n",
       "    }\n",
       "\n",
       "    .dataframe thead th {\n",
       "        text-align: right;\n",
       "    }\n",
       "</style>\n",
       "<table border=\"1\" class=\"dataframe\">\n",
       "  <thead>\n",
       "    <tr style=\"text-align: right;\">\n",
       "      <th></th>\n",
       "      <th>title</th>\n",
       "      <th>author_id</th>\n",
       "      <th>last_updated</th>\n",
       "      <th>link</th>\n",
       "      <th>category</th>\n",
       "      <th>day</th>\n",
       "      <th>month</th>\n",
       "      <th>year</th>\n",
       "    </tr>\n",
       "  </thead>\n",
       "  <tbody>\n",
       "    <tr>\n",
       "      <th>0</th>\n",
       "      <td>5 Best Practices For Writing SQL Joins</td>\n",
       "      <td>priyankab14</td>\n",
       "      <td>21 Feb, 2022</td>\n",
       "      <td>https://www.geeksforgeeks.org/5-best-practices...</td>\n",
       "      <td>easy</td>\n",
       "      <td>21</td>\n",
       "      <td>Feb</td>\n",
       "      <td>2022</td>\n",
       "    </tr>\n",
       "    <tr>\n",
       "      <th>1</th>\n",
       "      <td>Foundation CSS Dropdown Menu</td>\n",
       "      <td>ishankhandelwals</td>\n",
       "      <td>20 Feb, 2022</td>\n",
       "      <td>https://www.geeksforgeeks.org/foundation-css-d...</td>\n",
       "      <td>easy</td>\n",
       "      <td>20</td>\n",
       "      <td>Feb</td>\n",
       "      <td>2022</td>\n",
       "    </tr>\n",
       "    <tr>\n",
       "      <th>2</th>\n",
       "      <td>Top 20 Excel Shortcuts That You Need To Know</td>\n",
       "      <td>priyankab14</td>\n",
       "      <td>17 Feb, 2022</td>\n",
       "      <td>https://www.geeksforgeeks.org/top-20-excel-sho...</td>\n",
       "      <td>easy</td>\n",
       "      <td>17</td>\n",
       "      <td>Feb</td>\n",
       "      <td>2022</td>\n",
       "    </tr>\n",
       "    <tr>\n",
       "      <th>3</th>\n",
       "      <td>Servlet – Fetching Result</td>\n",
       "      <td>nishatiwari1719</td>\n",
       "      <td>17 Feb, 2022</td>\n",
       "      <td>https://www.geeksforgeeks.org/servlet-fetching...</td>\n",
       "      <td>easy</td>\n",
       "      <td>17</td>\n",
       "      <td>Feb</td>\n",
       "      <td>2022</td>\n",
       "    </tr>\n",
       "    <tr>\n",
       "      <th>4</th>\n",
       "      <td>Suffix Sum Array</td>\n",
       "      <td>rohit768</td>\n",
       "      <td>21 Feb, 2022</td>\n",
       "      <td>https://www.geeksforgeeks.org/suffix-sum-array/</td>\n",
       "      <td>easy</td>\n",
       "      <td>21</td>\n",
       "      <td>Feb</td>\n",
       "      <td>2022</td>\n",
       "    </tr>\n",
       "  </tbody>\n",
       "</table>\n",
       "</div>"
      ],
      "text/plain": [
       "                                          title         author_id  \\\n",
       "0        5 Best Practices For Writing SQL Joins       priyankab14   \n",
       "1                  Foundation CSS Dropdown Menu  ishankhandelwals   \n",
       "2  Top 20 Excel Shortcuts That You Need To Know       priyankab14   \n",
       "3                     Servlet – Fetching Result   nishatiwari1719   \n",
       "4                              Suffix Sum Array          rohit768   \n",
       "\n",
       "   last_updated                                               link category  \\\n",
       "0  21 Feb, 2022  https://www.geeksforgeeks.org/5-best-practices...     easy   \n",
       "1  20 Feb, 2022  https://www.geeksforgeeks.org/foundation-css-d...     easy   \n",
       "2  17 Feb, 2022  https://www.geeksforgeeks.org/top-20-excel-sho...     easy   \n",
       "3  17 Feb, 2022  https://www.geeksforgeeks.org/servlet-fetching...     easy   \n",
       "4  21 Feb, 2022    https://www.geeksforgeeks.org/suffix-sum-array/     easy   \n",
       "\n",
       "  day month  year  \n",
       "0  21   Feb  2022  \n",
       "1  20   Feb  2022  \n",
       "2  17   Feb  2022  \n",
       "3  17   Feb  2022  \n",
       "4  21   Feb  2022  "
      ]
     },
     "execution_count": 20,
     "metadata": {},
     "output_type": "execute_result"
    }
   ],
   "source": [
    "df.head()"
   ]
  },
  {
   "cell_type": "code",
   "execution_count": 21,
   "id": "9753eb79",
   "metadata": {
    "execution": {
     "iopub.execute_input": "2022-05-23T13:21:27.632018Z",
     "iopub.status.busy": "2022-05-23T13:21:27.631295Z",
     "iopub.status.idle": "2022-05-23T13:21:27.645467Z",
     "shell.execute_reply": "2022-05-23T13:21:27.645991Z",
     "shell.execute_reply.started": "2022-05-23T13:15:04.148017Z"
    },
    "papermill": {
     "duration": 0.062974,
     "end_time": "2022-05-23T13:21:27.646209",
     "exception": false,
     "start_time": "2022-05-23T13:21:27.583235",
     "status": "completed"
    },
    "tags": []
   },
   "outputs": [
    {
     "data": {
      "text/plain": [
       "month\n",
       "Mar    1510\n",
       "Apr    2318\n",
       "Dec    2674\n",
       "Feb    2716\n",
       "Oct    2775\n",
       "Jul    2823\n",
       "Sep    2918\n",
       "Nov    2932\n",
       "Aug    3192\n",
       "Jan    3206\n",
       "May    3331\n",
       "Jun    4060\n",
       "dtype: int64"
      ]
     },
     "execution_count": 21,
     "metadata": {},
     "output_type": "execute_result"
    }
   ],
   "source": [
    "df.groupby('month').size().sort_values()"
   ]
  },
  {
   "cell_type": "markdown",
   "id": "037f8c6c",
   "metadata": {
    "papermill": {
     "duration": 0.044827,
     "end_time": "2022-05-23T13:21:27.736859",
     "exception": false,
     "start_time": "2022-05-23T13:21:27.692032",
     "status": "completed"
    },
    "tags": []
   },
   "source": [
    "## march"
   ]
  },
  {
   "cell_type": "markdown",
   "id": "225a5383",
   "metadata": {
    "papermill": {
     "duration": 0.046641,
     "end_time": "2022-05-23T13:21:27.828659",
     "exception": false,
     "start_time": "2022-05-23T13:21:27.782018",
     "status": "completed"
    },
    "tags": []
   },
   "source": [
    "## 10) Growth Rate of articles written 2021 as compare to 2020?"
   ]
  },
  {
   "cell_type": "markdown",
   "id": "2a38a59d",
   "metadata": {
    "papermill": {
     "duration": 0.044883,
     "end_time": "2022-05-23T13:21:27.918670",
     "exception": false,
     "start_time": "2022-05-23T13:21:27.873787",
     "status": "completed"
    },
    "tags": []
   },
   "source": [
    "## Article written in 2020"
   ]
  },
  {
   "cell_type": "code",
   "execution_count": 22,
   "id": "17d6aaa4",
   "metadata": {
    "execution": {
     "iopub.execute_input": "2022-05-23T13:21:28.013282Z",
     "iopub.status.busy": "2022-05-23T13:21:28.012603Z",
     "iopub.status.idle": "2022-05-23T13:21:28.039644Z",
     "shell.execute_reply": "2022-05-23T13:21:28.040238Z",
     "shell.execute_reply.started": "2022-05-23T13:19:59.963784Z"
    },
    "papermill": {
     "duration": 0.076008,
     "end_time": "2022-05-23T13:21:28.040455",
     "exception": false,
     "start_time": "2022-05-23T13:21:27.964447",
     "status": "completed"
    },
    "tags": []
   },
   "outputs": [
    {
     "name": "stdout",
     "output_type": "stream",
     "text": [
      "2020:: 4625\n",
      "2021:: 18613\n"
     ]
    }
   ],
   "source": [
    "l1 = len(df[df['year'] == '2020'])\n",
    "l2 = len(df[df['year'] == '2021'])\n",
    "print(\"2020::\",l1)\n",
    "print(\"2021::\",l2)"
   ]
  },
  {
   "cell_type": "markdown",
   "id": "7d9c2f1e",
   "metadata": {
    "papermill": {
     "duration": 0.045392,
     "end_time": "2022-05-23T13:21:28.131430",
     "exception": false,
     "start_time": "2022-05-23T13:21:28.086038",
     "status": "completed"
    },
    "tags": []
   },
   "source": [
    "## Article written in 2021"
   ]
  },
  {
   "cell_type": "code",
   "execution_count": 23,
   "id": "12180542",
   "metadata": {
    "execution": {
     "iopub.execute_input": "2022-05-23T13:21:28.226412Z",
     "iopub.status.busy": "2022-05-23T13:21:28.225762Z",
     "iopub.status.idle": "2022-05-23T13:21:28.232520Z",
     "shell.execute_reply": "2022-05-23T13:21:28.231869Z",
     "shell.execute_reply.started": "2022-05-23T13:20:15.805343Z"
    },
    "papermill": {
     "duration": 0.055042,
     "end_time": "2022-05-23T13:21:28.232678",
     "exception": false,
     "start_time": "2022-05-23T13:21:28.177636",
     "status": "completed"
    },
    "tags": []
   },
   "outputs": [
    {
     "data": {
      "text/plain": [
       "402"
      ]
     },
     "execution_count": 23,
     "metadata": {},
     "output_type": "execute_result"
    }
   ],
   "source": [
    "round((l2/l1)*100)"
   ]
  },
  {
   "cell_type": "markdown",
   "id": "b4a70950",
   "metadata": {
    "papermill": {
     "duration": 0.047082,
     "end_time": "2022-05-23T13:21:28.327309",
     "exception": false,
     "start_time": "2022-05-23T13:21:28.280227",
     "status": "completed"
    },
    "tags": []
   },
   "source": [
    "402 % is the growth rate"
   ]
  },
  {
   "cell_type": "code",
   "execution_count": null,
   "id": "53aa62b5",
   "metadata": {
    "papermill": {
     "duration": 0.045796,
     "end_time": "2022-05-23T13:21:28.420780",
     "exception": false,
     "start_time": "2022-05-23T13:21:28.374984",
     "status": "completed"
    },
    "tags": []
   },
   "outputs": [],
   "source": []
  }
 ],
 "metadata": {
  "kernelspec": {
   "display_name": "Python 3",
   "language": "python",
   "name": "python3"
  },
  "language_info": {
   "codemirror_mode": {
    "name": "ipython",
    "version": 3
   },
   "file_extension": ".py",
   "mimetype": "text/x-python",
   "name": "python",
   "nbconvert_exporter": "python",
   "pygments_lexer": "ipython3",
   "version": "3.7.12"
  },
  "papermill": {
   "default_parameters": {},
   "duration": 16.435954,
   "end_time": "2022-05-23T13:21:29.379434",
   "environment_variables": {},
   "exception": null,
   "input_path": "__notebook__.ipynb",
   "output_path": "__notebook__.ipynb",
   "parameters": {},
   "start_time": "2022-05-23T13:21:12.943480",
   "version": "2.3.3"
  }
 },
 "nbformat": 4,
 "nbformat_minor": 5
}
